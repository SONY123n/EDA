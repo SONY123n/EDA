{
 "cells": [
  {
   "cell_type": "code",
   "execution_count": 1,
   "id": "a1c0d125-2a8f-43e4-8514-8d93e61f8bba",
   "metadata": {},
   "outputs": [
    {
     "data": {
      "text/plain": [
       "[1, 2, 3, 4, 5]"
      ]
     },
     "execution_count": 1,
     "metadata": {},
     "output_type": "execute_result"
    }
   ],
   "source": [
    "data=[1,2,3,4,5]\n",
    "data"
   ]
  },
  {
   "cell_type": "code",
   "execution_count": 3,
   "id": "80137698-f5bf-47db-ab13-6b686a259565",
   "metadata": {},
   "outputs": [],
   "source": [
    "import numpy as np \n",
    "import pandas as pd\n",
    "import seaborn as sns\n",
    "import matplotlib.pyplot as plt"
   ]
  },
  {
   "cell_type": "code",
   "execution_count": 4,
   "id": "f136d68b-baf3-4a1f-8205-3d95c336bd86",
   "metadata": {},
   "outputs": [
    {
     "data": {
      "text/plain": [
       "3.0"
      ]
     },
     "execution_count": 4,
     "metadata": {},
     "output_type": "execute_result"
    }
   ],
   "source": [
    "#measures of central tendency\n",
    "np.mean(data)"
   ]
  },
  {
   "cell_type": "code",
   "execution_count": 5,
   "id": "8fa9dac2-feb2-4d20-9331-f43b46dd8fa1",
   "metadata": {},
   "outputs": [
    {
     "data": {
      "text/html": [
       "<div>\n",
       "<style scoped>\n",
       "    .dataframe tbody tr th:only-of-type {\n",
       "        vertical-align: middle;\n",
       "    }\n",
       "\n",
       "    .dataframe tbody tr th {\n",
       "        vertical-align: top;\n",
       "    }\n",
       "\n",
       "    .dataframe thead th {\n",
       "        text-align: right;\n",
       "    }\n",
       "</style>\n",
       "<table border=\"1\" class=\"dataframe\">\n",
       "  <thead>\n",
       "    <tr style=\"text-align: right;\">\n",
       "      <th></th>\n",
       "      <th>total_bill</th>\n",
       "      <th>tip</th>\n",
       "      <th>sex</th>\n",
       "      <th>smoker</th>\n",
       "      <th>day</th>\n",
       "      <th>time</th>\n",
       "      <th>size</th>\n",
       "    </tr>\n",
       "  </thead>\n",
       "  <tbody>\n",
       "    <tr>\n",
       "      <th>0</th>\n",
       "      <td>16.99</td>\n",
       "      <td>1.01</td>\n",
       "      <td>Female</td>\n",
       "      <td>No</td>\n",
       "      <td>Sun</td>\n",
       "      <td>Dinner</td>\n",
       "      <td>2</td>\n",
       "    </tr>\n",
       "    <tr>\n",
       "      <th>1</th>\n",
       "      <td>10.34</td>\n",
       "      <td>1.66</td>\n",
       "      <td>Male</td>\n",
       "      <td>No</td>\n",
       "      <td>Sun</td>\n",
       "      <td>Dinner</td>\n",
       "      <td>3</td>\n",
       "    </tr>\n",
       "    <tr>\n",
       "      <th>2</th>\n",
       "      <td>21.01</td>\n",
       "      <td>3.50</td>\n",
       "      <td>Male</td>\n",
       "      <td>No</td>\n",
       "      <td>Sun</td>\n",
       "      <td>Dinner</td>\n",
       "      <td>3</td>\n",
       "    </tr>\n",
       "    <tr>\n",
       "      <th>3</th>\n",
       "      <td>23.68</td>\n",
       "      <td>3.31</td>\n",
       "      <td>Male</td>\n",
       "      <td>No</td>\n",
       "      <td>Sun</td>\n",
       "      <td>Dinner</td>\n",
       "      <td>2</td>\n",
       "    </tr>\n",
       "    <tr>\n",
       "      <th>4</th>\n",
       "      <td>24.59</td>\n",
       "      <td>3.61</td>\n",
       "      <td>Female</td>\n",
       "      <td>No</td>\n",
       "      <td>Sun</td>\n",
       "      <td>Dinner</td>\n",
       "      <td>4</td>\n",
       "    </tr>\n",
       "    <tr>\n",
       "      <th>...</th>\n",
       "      <td>...</td>\n",
       "      <td>...</td>\n",
       "      <td>...</td>\n",
       "      <td>...</td>\n",
       "      <td>...</td>\n",
       "      <td>...</td>\n",
       "      <td>...</td>\n",
       "    </tr>\n",
       "    <tr>\n",
       "      <th>239</th>\n",
       "      <td>29.03</td>\n",
       "      <td>5.92</td>\n",
       "      <td>Male</td>\n",
       "      <td>No</td>\n",
       "      <td>Sat</td>\n",
       "      <td>Dinner</td>\n",
       "      <td>3</td>\n",
       "    </tr>\n",
       "    <tr>\n",
       "      <th>240</th>\n",
       "      <td>27.18</td>\n",
       "      <td>2.00</td>\n",
       "      <td>Female</td>\n",
       "      <td>Yes</td>\n",
       "      <td>Sat</td>\n",
       "      <td>Dinner</td>\n",
       "      <td>2</td>\n",
       "    </tr>\n",
       "    <tr>\n",
       "      <th>241</th>\n",
       "      <td>22.67</td>\n",
       "      <td>2.00</td>\n",
       "      <td>Male</td>\n",
       "      <td>Yes</td>\n",
       "      <td>Sat</td>\n",
       "      <td>Dinner</td>\n",
       "      <td>2</td>\n",
       "    </tr>\n",
       "    <tr>\n",
       "      <th>242</th>\n",
       "      <td>17.82</td>\n",
       "      <td>1.75</td>\n",
       "      <td>Male</td>\n",
       "      <td>No</td>\n",
       "      <td>Sat</td>\n",
       "      <td>Dinner</td>\n",
       "      <td>2</td>\n",
       "    </tr>\n",
       "    <tr>\n",
       "      <th>243</th>\n",
       "      <td>18.78</td>\n",
       "      <td>3.00</td>\n",
       "      <td>Female</td>\n",
       "      <td>No</td>\n",
       "      <td>Thur</td>\n",
       "      <td>Dinner</td>\n",
       "      <td>2</td>\n",
       "    </tr>\n",
       "  </tbody>\n",
       "</table>\n",
       "<p>244 rows × 7 columns</p>\n",
       "</div>"
      ],
      "text/plain": [
       "     total_bill   tip     sex smoker   day    time  size\n",
       "0         16.99  1.01  Female     No   Sun  Dinner     2\n",
       "1         10.34  1.66    Male     No   Sun  Dinner     3\n",
       "2         21.01  3.50    Male     No   Sun  Dinner     3\n",
       "3         23.68  3.31    Male     No   Sun  Dinner     2\n",
       "4         24.59  3.61  Female     No   Sun  Dinner     4\n",
       "..          ...   ...     ...    ...   ...     ...   ...\n",
       "239       29.03  5.92    Male     No   Sat  Dinner     3\n",
       "240       27.18  2.00  Female    Yes   Sat  Dinner     2\n",
       "241       22.67  2.00    Male    Yes   Sat  Dinner     2\n",
       "242       17.82  1.75    Male     No   Sat  Dinner     2\n",
       "243       18.78  3.00  Female     No  Thur  Dinner     2\n",
       "\n",
       "[244 rows x 7 columns]"
      ]
     },
     "execution_count": 5,
     "metadata": {},
     "output_type": "execute_result"
    }
   ],
   "source": [
    "df=sns.load_dataset('tips')\n",
    "df"
   ]
  },
  {
   "cell_type": "code",
   "execution_count": 6,
   "id": "c186356c-e616-4b54-b1e8-c074e76e2d73",
   "metadata": {},
   "outputs": [
    {
     "data": {
      "text/plain": [
       "19.78594262295082"
      ]
     },
     "execution_count": 6,
     "metadata": {},
     "output_type": "execute_result"
    }
   ],
   "source": [
    "np.mean(df['total_bill'])"
   ]
  },
  {
   "cell_type": "code",
   "execution_count": 7,
   "id": "3538daa6-ee38-44a2-a6ab-357635652e95",
   "metadata": {},
   "outputs": [
    {
     "data": {
      "text/html": [
       "<div>\n",
       "<style scoped>\n",
       "    .dataframe tbody tr th:only-of-type {\n",
       "        vertical-align: middle;\n",
       "    }\n",
       "\n",
       "    .dataframe tbody tr th {\n",
       "        vertical-align: top;\n",
       "    }\n",
       "\n",
       "    .dataframe thead th {\n",
       "        text-align: right;\n",
       "    }\n",
       "</style>\n",
       "<table border=\"1\" class=\"dataframe\">\n",
       "  <thead>\n",
       "    <tr style=\"text-align: right;\">\n",
       "      <th></th>\n",
       "      <th>total_bill</th>\n",
       "      <th>tip</th>\n",
       "      <th>size</th>\n",
       "    </tr>\n",
       "  </thead>\n",
       "  <tbody>\n",
       "    <tr>\n",
       "      <th>count</th>\n",
       "      <td>244.000000</td>\n",
       "      <td>244.000000</td>\n",
       "      <td>244.000000</td>\n",
       "    </tr>\n",
       "    <tr>\n",
       "      <th>mean</th>\n",
       "      <td>19.785943</td>\n",
       "      <td>2.998279</td>\n",
       "      <td>2.569672</td>\n",
       "    </tr>\n",
       "    <tr>\n",
       "      <th>std</th>\n",
       "      <td>8.902412</td>\n",
       "      <td>1.383638</td>\n",
       "      <td>0.951100</td>\n",
       "    </tr>\n",
       "    <tr>\n",
       "      <th>min</th>\n",
       "      <td>3.070000</td>\n",
       "      <td>1.000000</td>\n",
       "      <td>1.000000</td>\n",
       "    </tr>\n",
       "    <tr>\n",
       "      <th>25%</th>\n",
       "      <td>13.347500</td>\n",
       "      <td>2.000000</td>\n",
       "      <td>2.000000</td>\n",
       "    </tr>\n",
       "    <tr>\n",
       "      <th>50%</th>\n",
       "      <td>17.795000</td>\n",
       "      <td>2.900000</td>\n",
       "      <td>2.000000</td>\n",
       "    </tr>\n",
       "    <tr>\n",
       "      <th>75%</th>\n",
       "      <td>24.127500</td>\n",
       "      <td>3.562500</td>\n",
       "      <td>3.000000</td>\n",
       "    </tr>\n",
       "    <tr>\n",
       "      <th>max</th>\n",
       "      <td>50.810000</td>\n",
       "      <td>10.000000</td>\n",
       "      <td>6.000000</td>\n",
       "    </tr>\n",
       "  </tbody>\n",
       "</table>\n",
       "</div>"
      ],
      "text/plain": [
       "       total_bill         tip        size\n",
       "count  244.000000  244.000000  244.000000\n",
       "mean    19.785943    2.998279    2.569672\n",
       "std      8.902412    1.383638    0.951100\n",
       "min      3.070000    1.000000    1.000000\n",
       "25%     13.347500    2.000000    2.000000\n",
       "50%     17.795000    2.900000    2.000000\n",
       "75%     24.127500    3.562500    3.000000\n",
       "max     50.810000   10.000000    6.000000"
      ]
     },
     "execution_count": 7,
     "metadata": {},
     "output_type": "execute_result"
    }
   ],
   "source": [
    "df.describe()"
   ]
  },
  {
   "cell_type": "code",
   "execution_count": 8,
   "id": "c2e6a21c-5e5e-4a95-ab50-7360300dff69",
   "metadata": {},
   "outputs": [
    {
     "data": {
      "text/plain": [
       "3.0"
      ]
     },
     "execution_count": 8,
     "metadata": {},
     "output_type": "execute_result"
    }
   ],
   "source": [
    "np.median(data)"
   ]
  },
  {
   "cell_type": "code",
   "execution_count": 9,
   "id": "ea4c9960-69dd-497b-97a2-31873ba4e50c",
   "metadata": {},
   "outputs": [
    {
     "data": {
      "text/plain": [
       "17.795"
      ]
     },
     "execution_count": 9,
     "metadata": {},
     "output_type": "execute_result"
    }
   ],
   "source": [
    "np.median(df['total_bill'])"
   ]
  },
  {
   "cell_type": "code",
   "execution_count": 10,
   "id": "4e67527b-ad3e-496d-bcc9-ae3359e2ea2f",
   "metadata": {},
   "outputs": [],
   "source": [
    "data=[1,2,3,4,500]"
   ]
  },
  {
   "cell_type": "code",
   "execution_count": 19,
   "id": "b152af5c-ca77-4824-9b8b-29d9b48e4ca4",
   "metadata": {},
   "outputs": [
    {
     "data": {
      "text/plain": [
       "102.0"
      ]
     },
     "execution_count": 19,
     "metadata": {},
     "output_type": "execute_result"
    }
   ],
   "source": [
    "np.mean(data)"
   ]
  },
  {
   "cell_type": "code",
   "execution_count": 21,
   "id": "2be7c674-c49e-4805-b82d-fb5b8633ebe0",
   "metadata": {},
   "outputs": [
    {
     "data": {
      "text/plain": [
       "3.0"
      ]
     },
     "execution_count": 21,
     "metadata": {},
     "output_type": "execute_result"
    }
   ],
   "source": [
    "np.median(data)"
   ]
  },
  {
   "cell_type": "code",
   "execution_count": 23,
   "id": "9229fe6a-eb82-4503-8163-4a8a282aaed4",
   "metadata": {},
   "outputs": [],
   "source": [
    "#mean is inflated by outliers but median not"
   ]
  },
  {
   "cell_type": "code",
   "execution_count": 25,
   "id": "eb1b6396-7ea4-4123-9abf-0629f906501b",
   "metadata": {},
   "outputs": [],
   "source": [
    "data=[1,2,3,3,3,4,4,500]"
   ]
  },
  {
   "cell_type": "code",
   "execution_count": 27,
   "id": "2dce516e-a160-4e33-a7de-c99459225162",
   "metadata": {},
   "outputs": [
    {
     "ename": "AttributeError",
     "evalue": "module 'numpy' has no attribute 'mode'",
     "output_type": "error",
     "traceback": [
      "\u001b[1;31m---------------------------------------------------------------------------\u001b[0m",
      "\u001b[1;31mAttributeError\u001b[0m                            Traceback (most recent call last)",
      "Cell \u001b[1;32mIn[27], line 1\u001b[0m\n\u001b[1;32m----> 1\u001b[0m np\u001b[38;5;241m.\u001b[39mmode(data)\n",
      "File \u001b[1;32m~\\anaconda3\\Lib\\site-packages\\numpy\\__init__.py:333\u001b[0m, in \u001b[0;36m__getattr__\u001b[1;34m(attr)\u001b[0m\n\u001b[0;32m    330\u001b[0m     \u001b[38;5;124m\"\u001b[39m\u001b[38;5;124mRemoved in NumPy 1.25.0\u001b[39m\u001b[38;5;124m\"\u001b[39m\n\u001b[0;32m    331\u001b[0m     \u001b[38;5;28;01mraise\u001b[39;00m \u001b[38;5;167;01mRuntimeError\u001b[39;00m(\u001b[38;5;124m\"\u001b[39m\u001b[38;5;124mTester was removed in NumPy 1.25.\u001b[39m\u001b[38;5;124m\"\u001b[39m)\n\u001b[1;32m--> 333\u001b[0m \u001b[38;5;28;01mraise\u001b[39;00m \u001b[38;5;167;01mAttributeError\u001b[39;00m(\u001b[38;5;124m\"\u001b[39m\u001b[38;5;124mmodule \u001b[39m\u001b[38;5;132;01m{!r}\u001b[39;00m\u001b[38;5;124m has no attribute \u001b[39m\u001b[38;5;124m\"\u001b[39m\n\u001b[0;32m    334\u001b[0m                      \u001b[38;5;124m\"\u001b[39m\u001b[38;5;132;01m{!r}\u001b[39;00m\u001b[38;5;124m\"\u001b[39m\u001b[38;5;241m.\u001b[39mformat(\u001b[38;5;18m__name__\u001b[39m, attr))\n",
      "\u001b[1;31mAttributeError\u001b[0m: module 'numpy' has no attribute 'mode'"
     ]
    }
   ],
   "source": [
    "np.mode(data)"
   ]
  },
  {
   "cell_type": "code",
   "execution_count": null,
   "id": "68245f59-0f2c-4245-a5fc-2bbc7b63f4de",
   "metadata": {},
   "outputs": [],
   "source": [
    "#in np there is no concept of error\n"
   ]
  },
  {
   "cell_type": "code",
   "execution_count": 61,
   "id": "a7ec2036-3b76-4500-aa6f-433f462f1004",
   "metadata": {},
   "outputs": [
    {
     "data": {
      "text/plain": [
       "3"
      ]
     },
     "execution_count": 61,
     "metadata": {},
     "output_type": "execute_result"
    }
   ],
   "source": [
    "import statistics\n",
    "statistics.mode(data)"
   ]
  },
  {
   "cell_type": "code",
   "execution_count": 63,
   "id": "9f853773-8220-4014-9ddc-839bca452aaf",
   "metadata": {},
   "outputs": [],
   "source": [
    "#statistics"
   ]
  },
  {
   "cell_type": "code",
   "execution_count": 65,
   "id": "58687027-f3d2-4f4a-8cc0-acdb9833e1be",
   "metadata": {},
   "outputs": [
    {
     "data": {
      "text/plain": [
       "array([2.])"
      ]
     },
     "execution_count": 65,
     "metadata": {},
     "output_type": "execute_result"
    }
   ],
   "source": [
    "np.percentile(data,[25])"
   ]
  },
  {
   "cell_type": "code",
   "execution_count": 67,
   "id": "daea6a9f-b4cb-4e2e-abcf-ec2d98116fc2",
   "metadata": {},
   "outputs": [
    {
     "data": {
      "text/plain": [
       "array([ 2.  ,  3.  ,  4.  , 13.6 , 14.88, 16.16, 17.44, 18.72, 20.  ])"
      ]
     },
     "execution_count": 67,
     "metadata": {},
     "output_type": "execute_result"
    }
   ],
   "source": [
    "np.percentile(data,[25,50,75,95,96,97,98,99,100])"
   ]
  },
  {
   "cell_type": "code",
   "execution_count": 69,
   "id": "864c9a18-5c6d-4b4a-8d33-63671f8e0713",
   "metadata": {},
   "outputs": [
    {
     "data": {
      "text/plain": [
       "[1, 2, 3, 3, 3, 4, 4, 20, -20]"
      ]
     },
     "execution_count": 69,
     "metadata": {},
     "output_type": "execute_result"
    }
   ],
   "source": [
    "data"
   ]
  },
  {
   "cell_type": "code",
   "execution_count": 71,
   "id": "e5beed44-dedf-45f2-b7ce-03f9d99211ba",
   "metadata": {},
   "outputs": [],
   "source": [
    "\n",
    "\n",
    "\n",
    "data.append(-500)"
   ]
  },
  {
   "cell_type": "code",
   "execution_count": 73,
   "id": "199afdb1-8816-44a3-8027-74323166faa1",
   "metadata": {},
   "outputs": [],
   "source": [
    "data=[1, 2, 3, 3, 3, 4, 4, 20, -20]"
   ]
  },
  {
   "cell_type": "code",
   "execution_count": 75,
   "id": "21e12068-b736-4fa8-9056-15aada26a6b3",
   "metadata": {},
   "outputs": [],
   "source": [
    "#outliers"
   ]
  },
  {
   "cell_type": "code",
   "execution_count": 77,
   "id": "a1b87ef8-e84a-4c58-99bd-451b517b47ee",
   "metadata": {},
   "outputs": [
    {
     "data": {
      "text/plain": [
       "<Axes: >"
      ]
     },
     "execution_count": 77,
     "metadata": {},
     "output_type": "execute_result"
    },
    {
     "data": {
      "image/png": "[encoded data removed]",
      "text/plain": [
       "<Figure size 640x480 with 1 Axes>"
      ]
     },
     "metadata": {},
     "output_type": "display_data"
    }
   ],
   "source": [
    "sns.boxplot(data)"
   ]
  },
  {
   "cell_type": "code",
   "execution_count": 79,
   "id": "0317d14b-3ad2-48b8-b2f7-1cea0ea60b58",
   "metadata": {},
   "outputs": [],
   "source": [
    "#measures of dispersion-1)variance and 2)standard deviation\n"
   ]
  },
  {
   "cell_type": "code",
   "execution_count": 81,
   "id": "8dd2555f-80f0-4e21-87d3-4204fdf0c2d8",
   "metadata": {},
   "outputs": [
    {
     "data": {
      "text/plain": [
       "91.06172839506172"
      ]
     },
     "execution_count": 81,
     "metadata": {},
     "output_type": "execute_result"
    }
   ],
   "source": [
    "np.var(data)"
   ]
  },
  {
   "cell_type": "code",
   "execution_count": 83,
   "id": "b68155a7-32f6-4dae-ac5d-d407bef13544",
   "metadata": {},
   "outputs": [
    {
     "data": {
      "text/plain": [
       "9.54262691270395"
      ]
     },
     "execution_count": 83,
     "metadata": {},
     "output_type": "execute_result"
    }
   ],
   "source": [
    "np.std(data)"
   ]
  },
  {
   "cell_type": "code",
   "execution_count": 85,
   "id": "1ab7da05-fce7-47a5-a405-7dd3869260c0",
   "metadata": {},
   "outputs": [
    {
     "data": {
      "text/plain": [
       "102.44444444444444"
      ]
     },
     "execution_count": 85,
     "metadata": {},
     "output_type": "execute_result"
    }
   ],
   "source": [
    "\n",
    "statistics.variance(data)#sample variance"
   ]
  },
  {
   "cell_type": "code",
   "execution_count": 87,
   "id": "6febc9e8-d2b1-476c-a272-3f524c445039",
   "metadata": {},
   "outputs": [
    {
     "data": {
      "text/plain": [
       "91.06172839506173"
      ]
     },
     "execution_count": 87,
     "metadata": {},
     "output_type": "execute_result"
    }
   ],
   "source": [
    "statistics.pvariance(data)#population variance"
   ]
  },
  {
   "cell_type": "code",
   "execution_count": 89,
   "id": "17d7f8e6-68f8-4841-9f4e-22278062b2f5",
   "metadata": {},
   "outputs": [
    {
     "data": {
      "text/plain": [
       "9.54262691270395"
      ]
     },
     "execution_count": 89,
     "metadata": {},
     "output_type": "execute_result"
    }
   ],
   "source": [
    "import math\n",
    "math.sqrt(statistics.pvariance(data))"
   ]
  },
  {
   "cell_type": "code",
   "execution_count": 91,
   "id": "6adb1ffb-5747-461e-8f78-1a2a9cd1112d",
   "metadata": {},
   "outputs": [],
   "source": [
    "#how to know the relation ship between two features\n",
    "#correlation and covariance\n"
   ]
  },
  {
   "cell_type": "code",
   "execution_count": 93,
   "id": "969d9381-3d1e-4b2a-9697-27f9232cf1c8",
   "metadata": {},
   "outputs": [
    {
     "data": {
      "text/html": [
       "<div>\n",
       "<style scoped>\n",
       "    .dataframe tbody tr th:only-of-type {\n",
       "        vertical-align: middle;\n",
       "    }\n",
       "\n",
       "    .dataframe tbody tr th {\n",
       "        vertical-align: top;\n",
       "    }\n",
       "\n",
       "    .dataframe thead th {\n",
       "        text-align: right;\n",
       "    }\n",
       "</style>\n",
       "<table border=\"1\" class=\"dataframe\">\n",
       "  <thead>\n",
       "    <tr style=\"text-align: right;\">\n",
       "      <th></th>\n",
       "      <th>total_bill</th>\n",
       "      <th>tip</th>\n",
       "      <th>sex</th>\n",
       "      <th>smoker</th>\n",
       "      <th>day</th>\n",
       "      <th>time</th>\n",
       "      <th>size</th>\n",
       "    </tr>\n",
       "  </thead>\n",
       "  <tbody>\n",
       "    <tr>\n",
       "      <th>0</th>\n",
       "      <td>16.99</td>\n",
       "      <td>1.01</td>\n",
       "      <td>Female</td>\n",
       "      <td>No</td>\n",
       "      <td>Sun</td>\n",
       "      <td>Dinner</td>\n",
       "      <td>2</td>\n",
       "    </tr>\n",
       "    <tr>\n",
       "      <th>1</th>\n",
       "      <td>10.34</td>\n",
       "      <td>1.66</td>\n",
       "      <td>Male</td>\n",
       "      <td>No</td>\n",
       "      <td>Sun</td>\n",
       "      <td>Dinner</td>\n",
       "      <td>3</td>\n",
       "    </tr>\n",
       "    <tr>\n",
       "      <th>2</th>\n",
       "      <td>21.01</td>\n",
       "      <td>3.50</td>\n",
       "      <td>Male</td>\n",
       "      <td>No</td>\n",
       "      <td>Sun</td>\n",
       "      <td>Dinner</td>\n",
       "      <td>3</td>\n",
       "    </tr>\n",
       "    <tr>\n",
       "      <th>3</th>\n",
       "      <td>23.68</td>\n",
       "      <td>3.31</td>\n",
       "      <td>Male</td>\n",
       "      <td>No</td>\n",
       "      <td>Sun</td>\n",
       "      <td>Dinner</td>\n",
       "      <td>2</td>\n",
       "    </tr>\n",
       "    <tr>\n",
       "      <th>4</th>\n",
       "      <td>24.59</td>\n",
       "      <td>3.61</td>\n",
       "      <td>Female</td>\n",
       "      <td>No</td>\n",
       "      <td>Sun</td>\n",
       "      <td>Dinner</td>\n",
       "      <td>4</td>\n",
       "    </tr>\n",
       "    <tr>\n",
       "      <th>...</th>\n",
       "      <td>...</td>\n",
       "      <td>...</td>\n",
       "      <td>...</td>\n",
       "      <td>...</td>\n",
       "      <td>...</td>\n",
       "      <td>...</td>\n",
       "      <td>...</td>\n",
       "    </tr>\n",
       "    <tr>\n",
       "      <th>239</th>\n",
       "      <td>29.03</td>\n",
       "      <td>5.92</td>\n",
       "      <td>Male</td>\n",
       "      <td>No</td>\n",
       "      <td>Sat</td>\n",
       "      <td>Dinner</td>\n",
       "      <td>3</td>\n",
       "    </tr>\n",
       "    <tr>\n",
       "      <th>240</th>\n",
       "      <td>27.18</td>\n",
       "      <td>2.00</td>\n",
       "      <td>Female</td>\n",
       "      <td>Yes</td>\n",
       "      <td>Sat</td>\n",
       "      <td>Dinner</td>\n",
       "      <td>2</td>\n",
       "    </tr>\n",
       "    <tr>\n",
       "      <th>241</th>\n",
       "      <td>22.67</td>\n",
       "      <td>2.00</td>\n",
       "      <td>Male</td>\n",
       "      <td>Yes</td>\n",
       "      <td>Sat</td>\n",
       "      <td>Dinner</td>\n",
       "      <td>2</td>\n",
       "    </tr>\n",
       "    <tr>\n",
       "      <th>242</th>\n",
       "      <td>17.82</td>\n",
       "      <td>1.75</td>\n",
       "      <td>Male</td>\n",
       "      <td>No</td>\n",
       "      <td>Sat</td>\n",
       "      <td>Dinner</td>\n",
       "      <td>2</td>\n",
       "    </tr>\n",
       "    <tr>\n",
       "      <th>243</th>\n",
       "      <td>18.78</td>\n",
       "      <td>3.00</td>\n",
       "      <td>Female</td>\n",
       "      <td>No</td>\n",
       "      <td>Thur</td>\n",
       "      <td>Dinner</td>\n",
       "      <td>2</td>\n",
       "    </tr>\n",
       "  </tbody>\n",
       "</table>\n",
       "<p>244 rows × 7 columns</p>\n",
       "</div>"
      ],
      "text/plain": [
       "     total_bill   tip     sex smoker   day    time  size\n",
       "0         16.99  1.01  Female     No   Sun  Dinner     2\n",
       "1         10.34  1.66    Male     No   Sun  Dinner     3\n",
       "2         21.01  3.50    Male     No   Sun  Dinner     3\n",
       "3         23.68  3.31    Male     No   Sun  Dinner     2\n",
       "4         24.59  3.61  Female     No   Sun  Dinner     4\n",
       "..          ...   ...     ...    ...   ...     ...   ...\n",
       "239       29.03  5.92    Male     No   Sat  Dinner     3\n",
       "240       27.18  2.00  Female    Yes   Sat  Dinner     2\n",
       "241       22.67  2.00    Male    Yes   Sat  Dinner     2\n",
       "242       17.82  1.75    Male     No   Sat  Dinner     2\n",
       "243       18.78  3.00  Female     No  Thur  Dinner     2\n",
       "\n",
       "[244 rows x 7 columns]"
      ]
     },
     "execution_count": 93,
     "metadata": {},
     "output_type": "execute_result"
    }
   ],
   "source": [
    "df"
   ]
  },
  {
   "cell_type": "code",
   "execution_count": 95,
   "id": "6df89051-7b73-462e-aae0-244c8f02d8c7",
   "metadata": {},
   "outputs": [],
   "source": [
    "cor=df[['total_bill','tip','size']].corr()"
   ]
  },
  {
   "cell_type": "code",
   "execution_count": 97,
   "id": "9953ea4c-50fd-4890-bd29-769ae0a0615c",
   "metadata": {},
   "outputs": [
    {
     "data": {
      "text/html": [
       "<div>\n",
       "<style scoped>\n",
       "    .dataframe tbody tr th:only-of-type {\n",
       "        vertical-align: middle;\n",
       "    }\n",
       "\n",
       "    .dataframe tbody tr th {\n",
       "        vertical-align: top;\n",
       "    }\n",
       "\n",
       "    .dataframe thead th {\n",
       "        text-align: right;\n",
       "    }\n",
       "</style>\n",
       "<table border=\"1\" class=\"dataframe\">\n",
       "  <thead>\n",
       "    <tr style=\"text-align: right;\">\n",
       "      <th></th>\n",
       "      <th>total_bill</th>\n",
       "      <th>tip</th>\n",
       "      <th>size</th>\n",
       "    </tr>\n",
       "  </thead>\n",
       "  <tbody>\n",
       "    <tr>\n",
       "      <th>total_bill</th>\n",
       "      <td>1.000000</td>\n",
       "      <td>0.675734</td>\n",
       "      <td>0.598315</td>\n",
       "    </tr>\n",
       "    <tr>\n",
       "      <th>tip</th>\n",
       "      <td>0.675734</td>\n",
       "      <td>1.000000</td>\n",
       "      <td>0.489299</td>\n",
       "    </tr>\n",
       "    <tr>\n",
       "      <th>size</th>\n",
       "      <td>0.598315</td>\n",
       "      <td>0.489299</td>\n",
       "      <td>1.000000</td>\n",
       "    </tr>\n",
       "  </tbody>\n",
       "</table>\n",
       "</div>"
      ],
      "text/plain": [
       "            total_bill       tip      size\n",
       "total_bill    1.000000  0.675734  0.598315\n",
       "tip           0.675734  1.000000  0.489299\n",
       "size          0.598315  0.489299  1.000000"
      ]
     },
     "execution_count": 97,
     "metadata": {},
     "output_type": "execute_result"
    }
   ],
   "source": [
    "cor"
   ]
  },
  {
   "cell_type": "code",
   "execution_count": 99,
   "id": "77224a12-a1aa-49b0-ac44-8670f0dca8ea",
   "metadata": {},
   "outputs": [
    {
     "data": {
      "text/html": [
       "<div>\n",
       "<style scoped>\n",
       "    .dataframe tbody tr th:only-of-type {\n",
       "        vertical-align: middle;\n",
       "    }\n",
       "\n",
       "    .dataframe tbody tr th {\n",
       "        vertical-align: top;\n",
       "    }\n",
       "\n",
       "    .dataframe thead th {\n",
       "        text-align: right;\n",
       "    }\n",
       "</style>\n",
       "<table border=\"1\" class=\"dataframe\">\n",
       "  <thead>\n",
       "    <tr style=\"text-align: right;\">\n",
       "      <th></th>\n",
       "      <th>total_bill</th>\n",
       "      <th>tip</th>\n",
       "      <th>size</th>\n",
       "    </tr>\n",
       "  </thead>\n",
       "  <tbody>\n",
       "    <tr>\n",
       "      <th>total_bill</th>\n",
       "      <td>1.000000</td>\n",
       "      <td>0.675734</td>\n",
       "      <td>0.598315</td>\n",
       "    </tr>\n",
       "    <tr>\n",
       "      <th>tip</th>\n",
       "      <td>0.675734</td>\n",
       "      <td>1.000000</td>\n",
       "      <td>0.489299</td>\n",
       "    </tr>\n",
       "    <tr>\n",
       "      <th>size</th>\n",
       "      <td>0.598315</td>\n",
       "      <td>0.489299</td>\n",
       "      <td>1.000000</td>\n",
       "    </tr>\n",
       "  </tbody>\n",
       "</table>\n",
       "</div>"
      ],
      "text/plain": [
       "            total_bill       tip      size\n",
       "total_bill    1.000000  0.675734  0.598315\n",
       "tip           0.675734  1.000000  0.489299\n",
       "size          0.598315  0.489299  1.000000"
      ]
     },
     "execution_count": 99,
     "metadata": {},
     "output_type": "execute_result"
    }
   ],
   "source": [
    "df.corr(numeric_only=True)"
   ]
  },
  {
   "cell_type": "code",
   "execution_count": 101,
   "id": "1eb586a3-cdf7-4712-9a51-869e56492738",
   "metadata": {},
   "outputs": [],
   "source": [
    "#if there is 1 unit cahnge/increse/decrese in total bill then there is 67 percent chance that tip will also change/increse/decrese on a positive side\n"
   ]
  },
  {
   "cell_type": "code",
   "execution_count": 103,
   "id": "d54cf820-040c-43e7-b1b4-abda87d90bf3",
   "metadata": {},
   "outputs": [
    {
     "data": {
      "text/plain": [
       "<Axes: >"
      ]
     },
     "execution_count": 103,
     "metadata": {},
     "output_type": "execute_result"
    },
    {
     "data": {
      "image/png": "[encoded data removed]",
      "text/plain": [
       "<Figure size 640x480 with 2 Axes>"
      ]
     },
     "metadata": {},
     "output_type": "display_data"
    }
   ],
   "source": [
    "sns.heatmap(cor,annot=True)"
   ]
  },
  {
   "cell_type": "code",
   "execution_count": 105,
   "id": "a4015025-d39b-4d73-bd78-ba4aafb5aba2",
   "metadata": {},
   "outputs": [
    {
     "data": {
      "text/html": [
       "<div>\n",
       "<style scoped>\n",
       "    .dataframe tbody tr th:only-of-type {\n",
       "        vertical-align: middle;\n",
       "    }\n",
       "\n",
       "    .dataframe tbody tr th {\n",
       "        vertical-align: top;\n",
       "    }\n",
       "\n",
       "    .dataframe thead th {\n",
       "        text-align: right;\n",
       "    }\n",
       "</style>\n",
       "<table border=\"1\" class=\"dataframe\">\n",
       "  <thead>\n",
       "    <tr style=\"text-align: right;\">\n",
       "      <th></th>\n",
       "      <th>total_bill</th>\n",
       "      <th>tip</th>\n",
       "      <th>size</th>\n",
       "    </tr>\n",
       "  </thead>\n",
       "  <tbody>\n",
       "    <tr>\n",
       "      <th>total_bill</th>\n",
       "      <td>79.252939</td>\n",
       "      <td>8.323502</td>\n",
       "      <td>5.065983</td>\n",
       "    </tr>\n",
       "    <tr>\n",
       "      <th>tip</th>\n",
       "      <td>8.323502</td>\n",
       "      <td>1.914455</td>\n",
       "      <td>0.643906</td>\n",
       "    </tr>\n",
       "    <tr>\n",
       "      <th>size</th>\n",
       "      <td>5.065983</td>\n",
       "      <td>0.643906</td>\n",
       "      <td>0.904591</td>\n",
       "    </tr>\n",
       "  </tbody>\n",
       "</table>\n",
       "</div>"
      ],
      "text/plain": [
       "            total_bill       tip      size\n",
       "total_bill   79.252939  8.323502  5.065983\n",
       "tip           8.323502  1.914455  0.643906\n",
       "size          5.065983  0.643906  0.904591"
      ]
     },
     "execution_count": 105,
     "metadata": {},
     "output_type": "execute_result"
    }
   ],
   "source": [
    "df.cov(numeric_only=True)"
   ]
  },
  {
   "cell_type": "code",
   "execution_count": 107,
   "id": "7064e361-a395-4076-860e-b1513f7d25f9",
   "metadata": {},
   "outputs": [
    {
     "data": {
      "text/plain": [
       "<seaborn.axisgrid.PairGrid at 0x2396acb6000>"
      ]
     },
     "execution_count": 107,
     "metadata": {},
     "output_type": "execute_result"
    },
    {
     "data": {
      "image/png": "[encoded data removed]",
      "text/plain": [
       "<Figure size 750x750 with 12 Axes>"
      ]
     },
     "metadata": {},
     "output_type": "display_data"
    }
   ],
   "source": [
    "sns.pairplot(df)"
   ]
  },
  {
   "cell_type": "code",
   "execution_count": 108,
   "id": "cfe2b8f1-3394-4c82-b2dd-df0ede45984e",
   "metadata": {},
   "outputs": [
    {
     "data": {
      "text/plain": [
       "<Axes: ylabel='Count'>"
      ]
     },
     "execution_count": 108,
     "metadata": {},
     "output_type": "execute_result"
    },
    {
     "data": {
      "image/png": "[encoded data removed]",
      "text/plain": [
       "<Figure size 640x480 with 1 Axes>"
      ]
     },
     "metadata": {},
     "output_type": "display_data"
    }
   ],
   "source": [
    "sns.histplot(data,kde=True)"
   ]
  },
  {
   "cell_type": "code",
   "execution_count": 110,
   "id": "cbcf4d09-d239-4d9a-b234-17e4025602c1",
   "metadata": {},
   "outputs": [
    {
     "data": {
      "text/plain": [
       "<Axes: xlabel='total_bill', ylabel='Count'>"
      ]
     },
     "execution_count": 110,
     "metadata": {},
     "output_type": "execute_result"
    },
    {
     "data": {
      "image/png": "[encoded data removed]",
      "text/plain": [
       "<Figure size 640x480 with 1 Axes>"
      ]
     },
     "metadata": {},
     "output_type": "display_data"
    }
   ],
   "source": [
    "sns.histplot(df['total_bill'],kde=True)"
   ]
  },
  {
   "cell_type": "code",
   "execution_count": 113,
   "id": "f63224cb-1af6-437b-bd34-15c7cb318b7d",
   "metadata": {},
   "outputs": [],
   "source": [
    "data1=np.random.normal(0.5,0.2,1000)"
   ]
  },
  {
   "cell_type": "code",
   "execution_count": 115,
   "id": "e8ec2614-d88b-4d8f-a96d-68a2cf6a67c0",
   "metadata": {},
   "outputs": [
    {
     "data": {
      "text/plain": [
       "array([ 0.59494118,  0.14892746,  0.39213303,  0.63226096,  0.52436117,\n",
       "        0.32909162,  0.75533878,  0.35807419,  0.37337789,  0.83725434,\n",
       "        0.43509173,  0.35847317,  0.852861  ,  0.58337607,  0.39655118,\n",
       "        0.64196203,  0.62471276,  0.48033452,  0.77199868,  0.35499641,\n",
       "        0.78884145,  0.88304127,  0.48015478,  0.00576893,  0.41002661,\n",
       "        0.39695906,  0.68914605,  0.12875348,  0.51742113,  0.64565433,\n",
       "        0.89165398,  0.70243919, -0.07021956,  0.02381277,  0.6842371 ,\n",
       "        0.64609822,  0.35548878,  0.61916278,  0.5901734 ,  0.30886535,\n",
       "        0.51890586,  0.52441396,  0.15992801,  0.38417164,  0.61293413,\n",
       "        0.41273112,  0.6270438 ,  0.51766272,  0.18878395,  0.37486368,\n",
       "        0.71996778,  0.68358457,  0.70600252,  0.30193498,  0.28195531,\n",
       "        0.53188298,  0.5387721 ,  0.81579008,  0.26903324,  0.41356019,\n",
       "        0.16756475,  0.46231442,  0.40690653,  0.55071874,  0.35787814,\n",
       "        0.43111808,  0.238593  ,  0.50630303,  0.40542447,  0.54890331,\n",
       "        0.40635016,  0.37114939,  0.82724149,  0.66592745,  0.43632607,\n",
       "        0.65614621,  0.7566667 ,  0.71931353,  0.33102372,  0.18592151,\n",
       "        0.4462104 ,  0.19227632,  0.61223268,  0.6860188 ,  0.29408386,\n",
       "        0.40699084,  0.67781775,  0.41377836,  0.19971156,  0.44190578,\n",
       "        0.39601359,  0.36570517,  0.71763422,  0.54268681,  0.46617712,\n",
       "        0.32975595,  0.45515028,  0.36374648,  0.52140682,  0.50722074,\n",
       "        0.23879065,  0.58616376,  0.5942892 ,  0.39912099,  0.69114497,\n",
       "        0.43444226,  0.71455318,  0.55467979,  0.35192524,  0.57006226,\n",
       "        0.83035336,  0.56451688,  0.42687376,  0.10845612,  1.01894365,\n",
       "        0.50287539,  0.44586451,  0.64362585,  0.52213465,  0.70499826,\n",
       "        0.52842908,  0.64120094,  0.24295235,  0.5718716 ,  0.76328212,\n",
       "        0.84198151,  0.47339619,  0.6959762 ,  0.73608182,  0.31484285,\n",
       "        0.41266541,  0.3193876 ,  0.50199501,  0.24135738,  0.35474187,\n",
       "        0.46319738,  0.5451824 ,  0.41222935,  0.27089203,  0.37192077,\n",
       "        0.55694343,  0.67095083,  0.53012005,  0.18444837,  0.7567669 ,\n",
       "        0.36584397,  0.43726796,  0.60161768,  0.59564245,  0.49902359,\n",
       "        0.3752901 ,  0.62534581,  0.66217245,  0.43294598,  0.26251443,\n",
       "        0.87860038,  0.49454731,  0.12102561,  0.16512297,  0.83505259,\n",
       "        0.88040335,  0.68074203,  0.50681296,  0.54268099,  0.60948783,\n",
       "        0.89293933,  0.42344839,  0.24273789,  0.29886881,  0.29632937,\n",
       "        0.49007462,  0.18229172,  0.61059164,  0.6695153 ,  0.30880996,\n",
       "        0.24376632,  0.54991434,  0.54021861,  0.15316005,  0.37695136,\n",
       "        0.14722972,  0.09967283,  0.71790121,  0.53773516,  0.64410389,\n",
       "        0.40015346,  0.2966565 ,  0.29710689,  0.37434396,  0.51149621,\n",
       "        0.66048202,  0.52510472,  0.6824282 ,  0.42601642,  0.6765284 ,\n",
       "        0.43024217,  0.62037376,  0.31854777,  0.45926903,  0.525173  ,\n",
       "        0.29219683,  0.57260029,  0.57046114,  0.78800253,  0.15732792,\n",
       "        0.16656013,  0.5661755 ,  0.51312727,  0.55060894,  0.55289278,\n",
       "        0.38976667,  0.33017401,  0.35898685,  0.29994576,  0.40861937,\n",
       "        0.62892456,  0.31655292,  0.67094791,  0.30889127,  0.33373059,\n",
       "        0.80626688,  0.53585124,  0.18487724,  0.20357567,  0.3831507 ,\n",
       "        0.42343047,  0.29253358,  0.60738855,  0.19581393,  0.4141123 ,\n",
       "        0.39819849,  0.43739403,  0.53686368,  0.40782292,  0.33920653,\n",
       "        0.45796737,  0.63925622,  0.87358351,  0.26702769,  0.4310898 ,\n",
       "        0.60375811,  0.46849647,  0.65295704,  0.39404104,  0.31632797,\n",
       "        0.4902972 ,  0.48201214,  0.70319805,  0.64995041,  0.48797247,\n",
       "        0.82003663,  0.10012756,  0.11481784,  0.63100421,  0.47394235,\n",
       "        0.59383405,  0.73560626,  0.84106715,  0.58907586,  0.52716306,\n",
       "        0.80895985,  0.61380011,  0.2765158 ,  0.38227653,  0.20571415,\n",
       "        0.50453154,  0.63410899,  0.62822446,  0.39385519,  0.53683379,\n",
       "        0.31498296,  0.26740562, -0.01786771,  0.57957643,  0.39948201,\n",
       "        0.68380016,  0.58080179,  0.65326301,  0.69359654,  0.59338097,\n",
       "        0.46555236,  0.42544076,  0.70227876,  0.58339511,  0.60978011,\n",
       "        0.47636097,  0.39116536,  0.19602652,  0.65656158,  0.37787096,\n",
       "        0.32607374,  0.60906527,  0.30407904,  0.68276608,  0.62322752,\n",
       "        0.57899602,  0.44663128,  0.50224635,  0.70395956,  0.44227838,\n",
       "        0.2461774 ,  0.61561092,  0.77649224,  0.29442108,  0.44184695,\n",
       "        0.96546722,  0.67912142,  0.58893146,  0.60922423,  0.54262437,\n",
       "        0.56893081,  0.53669748,  0.33927843,  0.65740969,  0.70178894,\n",
       "        0.15019912,  0.5892716 ,  0.80598807,  0.45184496,  0.55978078,\n",
       "        0.62384045,  0.45721666,  0.8718631 ,  0.49010244,  0.46460405,\n",
       "        0.59487862,  0.44835776,  0.70479168,  0.35739814,  0.79757199,\n",
       "        0.62096398,  0.333696  ,  0.73023978,  1.04722478,  0.43796763,\n",
       "        0.46418944,  0.29679361,  0.44577224,  0.1471366 ,  0.6817547 ,\n",
       "        0.2747554 ,  0.43792064,  0.21762489,  0.60244976,  0.87274068,\n",
       "        0.31100663,  0.90232373,  0.3192495 ,  0.66356927,  0.36439086,\n",
       "        0.45782942,  0.78513122,  0.30340722,  0.02997637,  0.4078477 ,\n",
       "        0.44030243,  0.67657255,  0.17246926,  0.68785448,  0.52529689,\n",
       "        0.53609729,  0.51412247,  0.43723548,  0.36904668,  0.68495146,\n",
       "        0.95402932,  0.67876099,  0.52700819,  0.37197898,  0.52655731,\n",
       "        0.48497285,  0.59303849,  0.36308997,  0.99327108,  0.50710615,\n",
       "        0.44046489,  0.84883729,  0.33787991,  0.40594969,  0.56461928,\n",
       "        0.57914315,  0.84607285,  0.72231587,  0.67144099,  0.49764147,\n",
       "        0.380213  ,  0.42462126,  1.04067142,  0.38924762,  0.29936292,\n",
       "        0.52263548,  0.42336469,  0.68595205,  0.20498553,  0.38608535,\n",
       "        0.30631344,  0.57756831,  0.79245445,  0.2978771 ,  0.67031061,\n",
       "        0.53877387,  0.85560108,  0.14245483,  0.56070822,  0.73352867,\n",
       "        0.55328621,  0.57206698,  0.46415326,  0.76248311,  0.69484326,\n",
       "        0.4480637 ,  0.50816631,  0.68249196,  0.26853553,  0.82136119,\n",
       "        0.12711173,  0.1116775 ,  0.48963756,  0.19034627,  0.74236386,\n",
       "        0.80045694,  0.23138327,  0.515289  ,  0.60469088,  0.64225643,\n",
       "        0.91546076,  0.50295897,  0.52098447,  0.33021195,  0.5263865 ,\n",
       "        0.14375964,  0.60505241,  0.40504143,  0.8934263 ,  0.45659129,\n",
       "        0.5835994 ,  0.08999803,  0.36191067,  0.5209472 ,  0.67317651,\n",
       "        0.31684728,  0.35990173,  0.35804032,  0.6421928 ,  0.644783  ,\n",
       "        0.61331451,  0.44911145,  0.64686743,  0.79349022,  0.85703686,\n",
       "        0.44656828,  0.53041287,  0.36946608,  0.73665442,  0.47376775,\n",
       "        0.17689615,  0.65197004,  0.38832781,  0.84395299,  0.44116327,\n",
       "        0.412096  ,  0.46036152,  0.26170008,  0.64456579,  0.67965906,\n",
       "        0.42628479,  0.25051797,  0.51624486,  0.37344783,  0.38519136,\n",
       "        0.62041833,  0.61362555,  0.30647107,  0.63198081,  0.52044013,\n",
       "        0.21008392,  0.75540407,  0.69413627,  0.52966748,  0.73224933,\n",
       "        0.59771349,  0.74872959,  0.35645615,  0.54151439,  0.19833123,\n",
       "        0.9908474 ,  0.42938248,  0.60939542,  0.8680882 ,  0.41323804,\n",
       "        0.4463971 ,  0.35683602,  0.42574509,  0.3594578 ,  0.28470071,\n",
       "        0.48488898,  0.18473818,  0.69960655,  0.3729046 ,  0.67885933,\n",
       "        0.62324754,  0.38921801,  0.88653035,  0.53019622,  0.71263545,\n",
       "        0.46800587,  0.5668467 ,  0.41154616,  0.82910293,  0.62078336,\n",
       "        0.61490403,  0.49662476,  0.94810706,  0.72185047,  0.72976252,\n",
       "        0.64308052,  0.53988389,  0.49719243,  0.49096993,  0.89877584,\n",
       "        0.61358692,  0.79897402,  0.16901489,  0.86152119,  0.45806275,\n",
       "        0.32755564,  0.42697467,  0.631457  ,  0.73480432,  0.36255641,\n",
       "        0.44418515,  0.58756847,  0.55683839,  0.49912277,  0.3702502 ,\n",
       "        0.4088341 ,  0.67069144,  0.29776865,  0.47467806,  0.34644866,\n",
       "        0.21463523,  0.03200997,  0.41683103,  0.34713271,  0.56769611,\n",
       "        0.92336688,  0.34707191,  0.22694827,  0.36204041,  0.42877882,\n",
       "        0.50149034,  0.28655465,  0.53761605,  0.42857755,  0.73846223,\n",
       "        0.5855737 ,  0.61641357,  0.1585793 ,  0.24847564,  0.31829719,\n",
       "        0.53016284,  0.71059654,  0.35483299,  0.19364962,  0.37003524,\n",
       "        0.25866069,  0.78953208,  0.50557929,  0.51560005,  0.60317009,\n",
       "        0.61371014,  0.51507335,  0.05254141,  0.61303328,  0.80945644,\n",
       "        0.46214316,  0.39752654,  0.43839324,  0.38907853,  0.79986171,\n",
       "        0.42900762,  0.56893522,  0.23429338,  0.7971663 ,  0.4216777 ,\n",
       "        0.26138338,  0.54851776,  0.56164651,  0.42175272,  0.2387324 ,\n",
       "        0.33583824,  0.21910564,  0.74923173,  0.54660772,  0.63515129,\n",
       "        0.43663016,  0.90270087,  0.45746993,  0.96120638,  0.31077766,\n",
       "        0.64021966,  0.66335668,  0.599395  ,  0.57944563,  0.24073144,\n",
       "        0.6014448 ,  0.60980738,  0.62025222,  0.32770249,  0.26319512,\n",
       "        0.65146396,  0.73807352,  0.5059721 ,  0.82075997,  0.40291778,\n",
       "        0.56858467,  0.87176211,  0.49945028,  0.76136597,  0.59356867,\n",
       "        0.62030531,  0.47918639,  0.37667852,  0.28305388,  0.36067432,\n",
       "        0.67914354,  0.71800012,  0.65820985,  0.86099295,  0.35999357,\n",
       "        0.27454371,  0.58615584,  0.54566804,  0.31072107,  0.79676723,\n",
       "        0.27124296,  0.33690177,  0.59662494,  0.47978695,  0.00399532,\n",
       "        0.49476897,  0.49249207,  0.73969379,  0.51522115,  0.45126785,\n",
       "        0.7615214 ,  0.48342017,  0.52480872,  0.33328165,  0.17312075,\n",
       "        0.87773482,  0.8535241 ,  0.40194658,  0.51833055,  0.84451844,\n",
       "        0.36775583,  0.40033533,  0.48296506,  0.5274149 ,  0.51836171,\n",
       "        0.38536337,  0.53376432,  0.26406185,  0.23875164,  0.23046581,\n",
       "        0.70735702,  0.05585604,  0.56681503,  0.37950899,  0.36793351,\n",
       "        0.81166639,  0.5640136 ,  0.72522991,  0.78341063,  0.5341499 ,\n",
       "        0.60604169,  0.68138462,  0.84529877,  0.60336929,  0.64541397,\n",
       "        0.44079835,  0.65983126,  0.28265309,  0.42462276,  0.97130123,\n",
       "        0.85558589,  0.47839163,  0.53906776,  0.61969881,  0.85132503,\n",
       "        0.42560013,  0.32975617,  0.34842536,  0.36504777,  0.55481568,\n",
       "        0.57736171,  0.28166072,  0.51988072,  0.20064601,  0.49583418,\n",
       "        0.77404955,  0.52149307,  0.50006081,  0.81127425,  0.22414579,\n",
       "        0.39606745,  0.75161425,  0.72779672,  0.43986626,  0.41485783,\n",
       "        0.4591713 ,  0.67515758,  0.58881303,  0.65503974,  0.37558887,\n",
       "        0.64217811,  0.50426715,  0.53201368,  0.58653345,  0.46247152,\n",
       "        0.57718763,  0.47167729,  0.52772664,  0.50661613,  0.50868833,\n",
       "        0.25440586,  0.45770399,  0.57483407,  0.8274794 ,  0.58865808,\n",
       "        0.39676702,  0.6376423 ,  0.2284512 ,  0.83371241,  0.7894504 ,\n",
       "        0.43792115,  0.0952627 ,  0.44467658,  0.12170301,  0.87240946,\n",
       "        0.6325005 ,  0.37605728,  0.55615612,  0.78855706,  0.58309258,\n",
       "        0.18012001,  0.68833752,  0.39905736,  0.65903436,  0.18237663,\n",
       "        0.30526441,  0.377399  ,  0.53738127,  0.54952112,  0.39481293,\n",
       "        0.46561331,  0.24184926,  0.04009822,  0.79504895,  0.2959846 ,\n",
       "        0.47343451,  0.4628586 ,  0.45076989,  0.45039548,  0.92927496,\n",
       "        0.77083793,  0.81675115,  0.41592775,  0.35157779,  0.28260931,\n",
       "        0.11516863,  0.5426422 ,  0.79285142,  0.41694993,  0.39147403,\n",
       "        0.46319958,  0.45765915,  0.80666632,  0.28361746,  0.31174723,\n",
       "        0.2853686 ,  0.66900069,  0.26011184,  0.68895721,  0.55177431,\n",
       "        0.62013267,  0.36558931,  0.55429736,  0.35350338,  0.7022923 ,\n",
       "        0.54722281,  0.27618682,  0.74327216,  0.80866358,  0.36064465,\n",
       "        0.23468516,  0.94727786,  0.60709963,  1.13520501,  0.67636537,\n",
       "        0.72952739,  0.2692544 ,  0.2777963 ,  0.25976729,  0.22675289,\n",
       "        0.67148213,  0.61162859,  0.31356053,  0.57495549,  0.33098364,\n",
       "        0.9015001 ,  0.37546619,  0.28000611,  0.46835339,  0.5351998 ,\n",
       "        0.48312408,  0.59542866,  0.32629331,  0.73991172,  0.72227639,\n",
       "        0.49316768,  0.45065649,  0.48406722,  0.05870072,  0.38877751,\n",
       "        0.12022809,  0.6390826 ,  0.45279715,  0.31755379,  0.72358076,\n",
       "        0.547963  ,  0.95679193,  0.18031997,  0.65081332,  0.61018755,\n",
       "        0.24730104,  0.32368772,  0.30167588,  0.69811437,  0.4805727 ,\n",
       "        0.71407327,  0.34699304,  0.39347096,  0.75391863,  0.7303631 ,\n",
       "        0.29674872,  0.08170318,  0.13862827,  0.73271286,  0.15694156,\n",
       "        0.18075764,  0.52838941,  0.56555559,  0.49501433,  0.52567242,\n",
       "        0.59250579,  0.62238646,  0.70913921,  0.26016881,  0.4278793 ,\n",
       "        0.5303805 ,  0.74283385,  0.49287373,  0.62860895,  0.80747271,\n",
       "        0.39098425,  0.60559621,  0.38427713,  0.45679301,  0.57082465,\n",
       "        0.42688886,  0.63275264,  0.67424014,  0.39177931,  0.21956372,\n",
       "        0.40187738,  0.5141097 ,  0.79245228,  0.38682232,  0.39828694,\n",
       "        0.55365665,  0.76761664,  0.46341173,  0.28978114,  0.61043158,\n",
       "        0.70990903,  0.60658652,  0.41108801,  0.39323161,  0.8286349 ,\n",
       "        0.52721549,  0.33773105,  0.59432146,  0.35684098,  0.28402556,\n",
       "        0.29146832,  0.61305361,  0.38287245,  0.41552819,  0.83430043,\n",
       "        0.56683567,  0.36867338,  0.63839892,  0.37522825,  0.32575174,\n",
       "        0.4655692 ,  0.43356527,  0.50308633,  0.15001064,  0.3859189 ,\n",
       "        0.11210881,  0.61551623,  0.72332164,  0.86987447,  0.2003406 ,\n",
       "        0.32280456,  0.35454292,  0.64385586,  0.6137286 ,  0.52426776,\n",
       "        0.48154033,  0.86855911,  0.40557078,  0.1992255 ,  0.7230953 ,\n",
       "        0.7195263 ,  0.33004044,  0.50481698,  0.4589856 ,  0.20981528,\n",
       "        0.41522505,  0.35644359,  0.70830096,  0.17323695,  0.66392444,\n",
       "        0.57622763,  0.86220607,  0.43928973,  0.32414798,  0.24098012,\n",
       "        0.49718031,  0.40419015,  0.47853745,  0.43600059,  0.61310144,\n",
       "        0.79182286,  0.4662378 ,  0.54828656,  0.62321288,  0.28717216,\n",
       "        0.64277445,  0.27521369,  0.66808001,  0.46793753,  0.40831059,\n",
       "        0.7620076 ,  0.5317019 ,  0.48573138,  0.32105979,  0.54280672,\n",
       "        0.53776407,  0.3406039 ,  0.33198433,  0.39346108,  0.39865166,\n",
       "        0.2676949 ,  0.81250884,  0.38492084,  0.58030814,  0.19383805,\n",
       "        0.712736  ,  0.61900138,  0.73556949,  0.1668515 ,  0.46950042,\n",
       "        0.20353317,  0.14821421,  0.63748469,  0.83032445,  0.42688727,\n",
       "        0.35559803,  0.46316048,  0.64253185,  0.78626002,  0.62207649,\n",
       "        0.29248325,  0.38229869,  0.41515145,  0.97178993, -0.00775308,\n",
       "        0.76592565,  0.17469582,  0.3260385 ,  0.70389983,  0.84820803,\n",
       "        0.42209588,  0.52458611,  0.32772602,  0.42381633,  0.39422075])"
      ]
     },
     "execution_count": 115,
     "metadata": {},
     "output_type": "execute_result"
    }
   ],
   "source": [
    "data1"
   ]
  },
  {
   "cell_type": "code",
   "execution_count": 117,
   "id": "73deb9b9-8a80-41eb-b1ea-24198999f6f6",
   "metadata": {},
   "outputs": [
    {
     "name": "stderr",
     "output_type": "stream",
     "text": [
      "C:\\Users\\jarup\\AppData\\Local\\Temp\\ipykernel_5592\\1727590720.py:1: UserWarning: \n",
      "\n",
      "`distplot` is a deprecated function and will be removed in seaborn v0.14.0.\n",
      "\n",
      "Please adapt your code to use either `displot` (a figure-level function with\n",
      "similar flexibility) or `histplot` (an axes-level function for histograms).\n",
      "\n",
      "For a guide to updating your code to use the new functions, please see\n",
      "https://gist.github.com/mwaskom/de44147ed2974457ad6372750bbe5751\n",
      "\n",
      "  sns.distplot(data1)\n"
     ]
    },
    {
     "data": {
      "text/plain": [
       "<Axes: ylabel='Density'>"
      ]
     },
     "execution_count": 117,
     "metadata": {},
     "output_type": "execute_result"
    },
    {
     "data": {
      "image/png": "[encoded data removed]",
      "text/plain": [
       "<Figure size 640x480 with 1 Axes>"
      ]
     },
     "metadata": {},
     "output_type": "display_data"
    }
   ],
   "source": [
    "sns.distplot(data1)"
   ]
  },
  {
   "cell_type": "code",
   "execution_count": 298,
   "id": "777caf6f-00cf-47e6-b9f6-76900e040fb1",
   "metadata": {},
   "outputs": [
    {
     "data": {
      "text/html": [
       "<div>\n",
       "<style scoped>\n",
       "    .dataframe tbody tr th:only-of-type {\n",
       "        vertical-align: middle;\n",
       "    }\n",
       "\n",
       "    .dataframe tbody tr th {\n",
       "        vertical-align: top;\n",
       "    }\n",
       "\n",
       "    .dataframe thead th {\n",
       "        text-align: right;\n",
       "    }\n",
       "</style>\n",
       "<table border=\"1\" class=\"dataframe\">\n",
       "  <thead>\n",
       "    <tr style=\"text-align: right;\">\n",
       "      <th></th>\n",
       "      <th>total_bill</th>\n",
       "      <th>tip</th>\n",
       "      <th>sex</th>\n",
       "      <th>smoker</th>\n",
       "      <th>day</th>\n",
       "      <th>time</th>\n",
       "      <th>size</th>\n",
       "    </tr>\n",
       "  </thead>\n",
       "  <tbody>\n",
       "    <tr>\n",
       "      <th>0</th>\n",
       "      <td>16.99</td>\n",
       "      <td>1.01</td>\n",
       "      <td>Female</td>\n",
       "      <td>No</td>\n",
       "      <td>Sun</td>\n",
       "      <td>Dinner</td>\n",
       "      <td>2</td>\n",
       "    </tr>\n",
       "    <tr>\n",
       "      <th>1</th>\n",
       "      <td>10.34</td>\n",
       "      <td>1.66</td>\n",
       "      <td>Male</td>\n",
       "      <td>No</td>\n",
       "      <td>Sun</td>\n",
       "      <td>Dinner</td>\n",
       "      <td>3</td>\n",
       "    </tr>\n",
       "    <tr>\n",
       "      <th>2</th>\n",
       "      <td>21.01</td>\n",
       "      <td>3.50</td>\n",
       "      <td>Male</td>\n",
       "      <td>No</td>\n",
       "      <td>Sun</td>\n",
       "      <td>Dinner</td>\n",
       "      <td>3</td>\n",
       "    </tr>\n",
       "    <tr>\n",
       "      <th>3</th>\n",
       "      <td>23.68</td>\n",
       "      <td>3.31</td>\n",
       "      <td>Male</td>\n",
       "      <td>No</td>\n",
       "      <td>Sun</td>\n",
       "      <td>Dinner</td>\n",
       "      <td>2</td>\n",
       "    </tr>\n",
       "    <tr>\n",
       "      <th>4</th>\n",
       "      <td>24.59</td>\n",
       "      <td>3.61</td>\n",
       "      <td>Female</td>\n",
       "      <td>No</td>\n",
       "      <td>Sun</td>\n",
       "      <td>Dinner</td>\n",
       "      <td>4</td>\n",
       "    </tr>\n",
       "    <tr>\n",
       "      <th>...</th>\n",
       "      <td>...</td>\n",
       "      <td>...</td>\n",
       "      <td>...</td>\n",
       "      <td>...</td>\n",
       "      <td>...</td>\n",
       "      <td>...</td>\n",
       "      <td>...</td>\n",
       "    </tr>\n",
       "    <tr>\n",
       "      <th>239</th>\n",
       "      <td>29.03</td>\n",
       "      <td>5.92</td>\n",
       "      <td>Male</td>\n",
       "      <td>No</td>\n",
       "      <td>Sat</td>\n",
       "      <td>Dinner</td>\n",
       "      <td>3</td>\n",
       "    </tr>\n",
       "    <tr>\n",
       "      <th>240</th>\n",
       "      <td>27.18</td>\n",
       "      <td>2.00</td>\n",
       "      <td>Female</td>\n",
       "      <td>Yes</td>\n",
       "      <td>Sat</td>\n",
       "      <td>Dinner</td>\n",
       "      <td>2</td>\n",
       "    </tr>\n",
       "    <tr>\n",
       "      <th>241</th>\n",
       "      <td>22.67</td>\n",
       "      <td>2.00</td>\n",
       "      <td>Male</td>\n",
       "      <td>Yes</td>\n",
       "      <td>Sat</td>\n",
       "      <td>Dinner</td>\n",
       "      <td>2</td>\n",
       "    </tr>\n",
       "    <tr>\n",
       "      <th>242</th>\n",
       "      <td>17.82</td>\n",
       "      <td>1.75</td>\n",
       "      <td>Male</td>\n",
       "      <td>No</td>\n",
       "      <td>Sat</td>\n",
       "      <td>Dinner</td>\n",
       "      <td>2</td>\n",
       "    </tr>\n",
       "    <tr>\n",
       "      <th>243</th>\n",
       "      <td>18.78</td>\n",
       "      <td>3.00</td>\n",
       "      <td>Female</td>\n",
       "      <td>No</td>\n",
       "      <td>Thur</td>\n",
       "      <td>Dinner</td>\n",
       "      <td>2</td>\n",
       "    </tr>\n",
       "  </tbody>\n",
       "</table>\n",
       "<p>244 rows × 7 columns</p>\n",
       "</div>"
      ],
      "text/plain": [
       "     total_bill   tip     sex smoker   day    time  size\n",
       "0         16.99  1.01  Female     No   Sun  Dinner     2\n",
       "1         10.34  1.66    Male     No   Sun  Dinner     3\n",
       "2         21.01  3.50    Male     No   Sun  Dinner     3\n",
       "3         23.68  3.31    Male     No   Sun  Dinner     2\n",
       "4         24.59  3.61  Female     No   Sun  Dinner     4\n",
       "..          ...   ...     ...    ...   ...     ...   ...\n",
       "239       29.03  5.92    Male     No   Sat  Dinner     3\n",
       "240       27.18  2.00  Female    Yes   Sat  Dinner     2\n",
       "241       22.67  2.00    Male    Yes   Sat  Dinner     2\n",
       "242       17.82  1.75    Male     No   Sat  Dinner     2\n",
       "243       18.78  3.00  Female     No  Thur  Dinner     2\n",
       "\n",
       "[244 rows x 7 columns]"
      ]
     },
     "execution_count": 298,
     "metadata": {},
     "output_type": "execute_result"
    }
   ],
   "source": [
    "df"
   ]
  },
  {
   "cell_type": "code",
   "execution_count": 119,
   "id": "ed0a6922-3a40-4f19-b18e-4caab521bb09",
   "metadata": {},
   "outputs": [
    {
     "data": {
      "text/plain": [
       "<Axes: ylabel='Count'>"
      ]
     },
     "execution_count": 119,
     "metadata": {},
     "output_type": "execute_result"
    },
    {
     "data": {
      "image/png": "[encoded data removed]",
      "text/plain": [
       "<Figure size 640x480 with 1 Axes>"
      ]
     },
     "metadata": {},
     "output_type": "display_data"
    }
   ],
   "source": [
    "sns.histplot(data1,kde=True)"
   ]
  },
  {
   "cell_type": "code",
   "execution_count": 121,
   "id": "d50ae42c-8a22-4372-b0e9-fd54c9f9e37c",
   "metadata": {},
   "outputs": [],
   "source": [
    "population=np.random.randint(10,20,50)"
   ]
  },
  {
   "cell_type": "code",
   "execution_count": 123,
   "id": "762af5a7-d81b-412b-9eee-e2e696ec591b",
   "metadata": {},
   "outputs": [
    {
     "data": {
      "text/plain": [
       "50"
      ]
     },
     "execution_count": 123,
     "metadata": {},
     "output_type": "execute_result"
    }
   ],
   "source": [
    "len(population)"
   ]
  },
  {
   "cell_type": "code",
   "execution_count": 125,
   "id": "a79d9874-2d35-4e7a-affb-edacbc5a5bff",
   "metadata": {},
   "outputs": [
    {
     "data": {
      "text/plain": [
       "array([11, 17, 12, 11, 12, 17, 12, 15, 15, 12, 19, 14, 13, 14, 16, 16, 17,\n",
       "       14, 11, 13, 12, 18, 17, 11, 11, 13, 13, 10, 13, 12, 13, 10, 15, 15,\n",
       "       15, 17, 11, 10, 17, 13, 12, 15, 12, 14, 19, 18, 17, 12, 16, 13])"
      ]
     },
     "execution_count": 125,
     "metadata": {},
     "output_type": "execute_result"
    }
   ],
   "source": [
    "population"
   ]
  },
  {
   "cell_type": "code",
   "execution_count": 127,
   "id": "883ecb6b-67dc-4937-8c59-3efd932ee7de",
   "metadata": {},
   "outputs": [
    {
     "data": {
      "text/plain": [
       "12"
      ]
     },
     "execution_count": 127,
     "metadata": {},
     "output_type": "execute_result"
    }
   ],
   "source": [
    "statistics.mode(population)"
   ]
  },
  {
   "cell_type": "code",
   "execution_count": 129,
   "id": "1d79be52-9fd8-4d1c-8f0e-2b039e79d7d6",
   "metadata": {},
   "outputs": [
    {
     "data": {
      "text/plain": [
       "13.9"
      ]
     },
     "execution_count": 129,
     "metadata": {},
     "output_type": "execute_result"
    }
   ],
   "source": [
    "np.mean(population)"
   ]
  },
  {
   "cell_type": "code",
   "execution_count": 131,
   "id": "ce0de8f3-a42a-4de2-a914-02f414b78ac6",
   "metadata": {},
   "outputs": [],
   "source": [
    "sample1=np.random.choice(population,20)\n",
    "sample2=np.random.choice(population,20)\n",
    "sample3=np.random.choice(population,20)\n",
    "sample4=np.random.choice(population,20)\n",
    "sample5=np.random.choice(population,20)"
   ]
  },
  {
   "cell_type": "code",
   "execution_count": 133,
   "id": "d4942fbd-8c18-456f-bf5a-6c229e3d569f",
   "metadata": {},
   "outputs": [
    {
     "data": {
      "text/plain": [
       "array([11, 12, 16, 13, 17, 13, 16, 17, 11, 17, 12, 11, 11, 13, 17, 18, 13,\n",
       "       11, 16, 15])"
      ]
     },
     "execution_count": 133,
     "metadata": {},
     "output_type": "execute_result"
    }
   ],
   "source": [
    "sample1"
   ]
  },
  {
   "cell_type": "code",
   "execution_count": 135,
   "id": "353904fb-9986-4e59-add4-537a681e7587",
   "metadata": {},
   "outputs": [
    {
     "data": {
      "text/plain": [
       "array([10, 12, 11, 10, 17, 16, 11, 13, 12, 19, 14, 12, 13, 15, 18, 19, 11,\n",
       "       17, 15, 14])"
      ]
     },
     "execution_count": 135,
     "metadata": {},
     "output_type": "execute_result"
    }
   ],
   "source": [
    "sample2"
   ]
  },
  {
   "cell_type": "code",
   "execution_count": 137,
   "id": "a60fc37c-1ebb-4135-ba9b-bfe824f4e65f",
   "metadata": {},
   "outputs": [
    {
     "data": {
      "text/plain": [
       "array([10, 14, 15, 17, 14, 16, 15, 15, 13, 10, 11, 13, 11, 11, 13, 13, 13,\n",
       "       11, 12, 17])"
      ]
     },
     "execution_count": 137,
     "metadata": {},
     "output_type": "execute_result"
    }
   ],
   "source": [
    "sample3"
   ]
  },
  {
   "cell_type": "code",
   "execution_count": 139,
   "id": "fe44c4ff-fef0-4903-a2e1-4edcd3bc9d44",
   "metadata": {},
   "outputs": [],
   "source": [
    "mean_of_samples=[]\n",
    "all_samples=[sample1,sample2,sample3,sample4,sample5]\n",
    "for sample in all_samples:\n",
    "    mean_of_samples.append(np.mean(sample))"
   ]
  },
  {
   "cell_type": "code",
   "execution_count": 141,
   "id": "aecaef68-bd07-4af9-9626-78e0a2cfae8e",
   "metadata": {},
   "outputs": [
    {
     "data": {
      "text/plain": [
       "[14.0, 13.95, 13.2, 14.25, 13.1]"
      ]
     },
     "execution_count": 141,
     "metadata": {},
     "output_type": "execute_result"
    }
   ],
   "source": [
    "mean_of_samples"
   ]
  },
  {
   "cell_type": "code",
   "execution_count": 143,
   "id": "3d80a461-f85a-4b70-853c-9417d00258a9",
   "metadata": {},
   "outputs": [],
   "source": [
    "#central limt theorem >>for any distribution given the sample mean will be approximated to normal distribution given samp,e size >= 30 and no.of samples should be sufficiently large "
   ]
  },
  {
   "cell_type": "code",
   "execution_count": 145,
   "id": "9c063836-a35c-430c-aac1-95561d697d76",
   "metadata": {},
   "outputs": [],
   "source": [
    "#binomial dist data\n",
    "population=np.random.binomial(10,0.5,1000)"
   ]
  },
  {
   "cell_type": "code",
   "execution_count": 147,
   "id": "86db6c13-46d3-4539-b01f-cbee519330b8",
   "metadata": {},
   "outputs": [
    {
     "data": {
      "text/plain": [
       "array([ 2,  6,  5,  4,  3,  6,  7,  4,  9,  5,  6,  6,  5,  4,  2,  5,  8,\n",
       "        3,  6,  3,  4,  7,  3,  6,  3,  5,  5,  1,  2,  4,  2,  5,  4,  7,\n",
       "        7,  8,  3,  4,  7,  3,  3,  3,  4,  7,  3,  8,  2,  7,  4,  4,  6,\n",
       "        7,  6,  8,  6,  7,  3,  3,  4,  5,  5,  7,  6,  6,  5,  7,  5,  7,\n",
       "        3,  4,  7,  4,  7,  4,  5,  6,  5,  7,  5,  4,  4,  6,  5,  6,  3,\n",
       "        4,  5,  5,  3,  4,  6,  3,  4,  6,  5,  6,  4,  5,  4,  2,  6,  4,\n",
       "        4,  4,  6,  2,  8,  5,  4,  5,  3,  4,  5,  2,  5,  6,  8,  4,  1,\n",
       "        5,  7,  5,  6,  8,  4,  5,  4,  7,  7,  6,  3,  7,  5,  5,  6,  4,\n",
       "        7,  4,  7,  3,  5,  4,  2,  4,  7,  2,  5,  5,  4,  5,  3,  8,  7,\n",
       "        5,  3,  5,  5,  5,  5,  3,  5,  2,  6,  5,  5,  4,  7,  6,  3,  6,\n",
       "        4,  6,  5,  7,  7,  4,  7,  5,  4,  6,  5,  3,  8,  7,  3,  4,  2,\n",
       "        5,  5,  4,  4,  8,  6,  6,  2,  8,  5,  5,  5,  4,  5,  7,  6,  6,\n",
       "        4,  6,  4,  5,  4,  4,  3,  5,  5,  5,  7,  2,  3,  7,  6,  6,  7,\n",
       "        4,  5,  5,  4,  6,  7,  8,  5,  9,  3,  5,  4,  4,  4,  5,  5,  7,\n",
       "        5,  6,  5,  3,  5,  6,  3,  3,  7,  4,  6,  1,  6,  3,  7,  6,  4,\n",
       "        4,  5,  3,  5,  5,  6,  4,  7,  3,  8,  7,  6,  6,  4,  5,  6,  5,\n",
       "        5,  6,  3,  6,  7,  2,  5,  5,  4,  5,  5,  4,  5,  6,  7,  5,  5,\n",
       "        6,  7,  6,  4,  4,  5,  7,  3,  1,  5,  5,  5,  4,  5,  6,  3,  6,\n",
       "        2,  5,  3,  4,  3,  4,  5,  4,  3,  4,  4,  5,  4,  5,  6,  2,  5,\n",
       "        7,  4,  5,  5,  6,  4,  5,  5,  6,  6,  5,  7,  4,  5,  6,  4,  4,\n",
       "        5,  3,  6,  7,  4,  4,  4,  3,  4,  4,  4,  3,  4,  5,  4,  4,  6,\n",
       "        6,  6,  6,  3,  5,  3,  6,  5,  5,  5,  5,  6,  9,  6,  4,  3,  6,\n",
       "        3,  7,  3,  8,  3,  6,  8,  5,  6,  5,  4,  5,  4,  4,  7,  6,  5,\n",
       "        3,  3,  6,  4,  3,  5,  5,  7,  8,  7,  7,  7,  5,  4,  4,  3,  6,\n",
       "        3,  4,  5,  7,  5,  2,  5,  9,  8,  4,  8,  3,  8,  7,  5,  6,  5,\n",
       "        3,  5,  8,  7,  7,  5,  6,  4,  4,  4,  2,  4,  7,  5,  5,  2,  5,\n",
       "        6,  7,  6,  6,  5,  8,  7,  6,  6,  7,  7,  6,  5,  6,  5,  3,  7,\n",
       "        9,  2,  4,  4,  8,  4,  7,  7,  7,  7,  8,  6,  5,  5,  5,  1,  2,\n",
       "        5,  5,  4,  7,  8,  5,  6,  7,  6,  5,  3,  4,  5,  4,  5,  8,  6,\n",
       "        5,  6,  7,  5,  5,  4,  5,  6,  5,  6,  3,  6,  3,  7,  5,  7,  4,\n",
       "        6,  6,  6,  6,  5,  3,  5,  6,  7,  8,  3,  5,  4,  3,  7,  6,  4,\n",
       "        4,  5,  7,  7,  5,  5,  6,  6,  7,  4,  4,  3,  5,  4,  3,  4,  7,\n",
       "        4,  8,  6,  6,  6,  8,  5,  6,  6,  7,  5,  6,  3,  3,  8,  3,  6,\n",
       "        7,  7,  5,  5,  8,  4,  5,  5,  4,  7,  6,  7,  4,  5,  7,  6,  3,\n",
       "        7,  7,  7,  4,  5,  8,  7,  6,  4,  5,  3,  6,  6,  4,  6,  5,  5,\n",
       "        5,  8,  4,  7,  7,  5,  6,  5,  3,  8,  7,  7,  5,  6,  6,  2,  7,\n",
       "        3,  6,  7,  7,  4,  3,  7,  6,  5,  4,  3,  4,  2,  8,  7,  5,  1,\n",
       "        6,  6,  6,  4,  4,  4,  5,  5,  5,  5,  7,  3,  3,  5,  6,  3,  7,\n",
       "        3,  5,  6,  6,  7,  2,  2,  8,  5,  4,  6,  4,  5,  4,  8,  5,  4,\n",
       "        6,  7,  6,  4,  5,  8,  8,  4,  5,  7,  4,  7,  7,  5,  5,  5,  8,\n",
       "        4,  4,  5,  6,  6,  8,  4,  4,  6,  3,  8,  3,  5,  5,  6,  7,  5,\n",
       "        5,  6,  2,  7,  4,  6,  6,  6,  4,  6,  3,  6,  7,  7,  5,  5,  4,\n",
       "        2,  4,  7,  8,  5,  5,  6,  7,  6,  5,  6,  7,  6,  6,  7,  5,  4,\n",
       "        4,  4,  4,  5,  3,  6,  6,  6,  4,  5,  7,  8,  3,  3,  3,  4,  6,\n",
       "        4,  4,  7,  6,  8,  6,  6,  5,  5,  4,  3,  5,  6,  2,  3,  3,  5,\n",
       "        5,  2,  4,  5,  5,  3,  1,  5,  6,  7,  3,  5,  8,  6,  4,  8,  5,\n",
       "        4,  7,  4,  6,  3,  5,  4,  1,  4,  4,  4,  5,  5,  5,  6,  9,  4,\n",
       "        8,  5,  4,  3,  6,  8,  5,  8,  6,  5,  3,  3,  3,  5,  6,  6,  5,\n",
       "        6,  4,  6,  5,  5,  3,  4,  6,  1,  4,  5,  4,  4,  6,  6,  9,  5,\n",
       "        6,  6,  5,  4,  3,  4,  7,  6,  3,  4,  4,  3,  8,  1,  5,  2,  2,\n",
       "        7,  2,  5,  4,  8,  7,  3,  3,  3,  5,  5,  6,  9,  7,  5,  6,  6,\n",
       "        7,  5,  4,  6,  5,  6,  6,  6,  5,  4,  2,  4,  5,  6,  6,  3,  4,\n",
       "        7,  6,  5,  7,  5,  7,  3,  7,  6,  3,  8,  6,  6,  6,  4,  2,  5,\n",
       "        6,  6,  3,  8,  3,  4,  3,  1,  6,  2,  7,  8,  2,  6,  4,  6,  6,\n",
       "        5, 10,  5,  7,  6,  4,  4,  6,  2,  4,  6,  4,  6,  8,  6,  4,  5,\n",
       "        6,  6,  7,  5,  5,  5,  4,  6,  6,  5,  4,  5,  5,  5,  8,  5,  7,\n",
       "        5,  5,  3,  4,  6,  3,  7,  6,  4,  6,  6,  3,  4,  4,  4,  4,  3,\n",
       "        4,  5,  8,  7,  5,  3,  5,  7,  7,  3,  6,  4,  6,  3,  4,  4,  7,\n",
       "        7,  4,  5,  6,  4,  6,  2,  4,  5,  3,  9,  7,  7,  5])"
      ]
     },
     "execution_count": 147,
     "metadata": {},
     "output_type": "execute_result"
    }
   ],
   "source": [
    "population"
   ]
  },
  {
   "cell_type": "code",
   "execution_count": 149,
   "id": "f8995346-e7c9-4701-905a-c067bfb315e7",
   "metadata": {},
   "outputs": [
    {
     "name": "stderr",
     "output_type": "stream",
     "text": [
      "C:\\Users\\jarup\\AppData\\Local\\Temp\\ipykernel_5592\\2958836585.py:1: UserWarning: \n",
      "\n",
      "`distplot` is a deprecated function and will be removed in seaborn v0.14.0.\n",
      "\n",
      "Please adapt your code to use either `displot` (a figure-level function with\n",
      "similar flexibility) or `histplot` (an axes-level function for histograms).\n",
      "\n",
      "For a guide to updating your code to use the new functions, please see\n",
      "https://gist.github.com/mwaskom/de44147ed2974457ad6372750bbe5751\n",
      "\n",
      "  sns.distplot(population)\n"
     ]
    },
    {
     "data": {
      "text/plain": [
       "<Axes: ylabel='Density'>"
      ]
     },
     "execution_count": 149,
     "metadata": {},
     "output_type": "execute_result"
    },
    {
     "data": {
      "image/png": "[encoded data removed]",
      "text/plain": [
       "<Figure size 640x480 with 1 Axes>"
      ]
     },
     "metadata": {},
     "output_type": "display_data"
    }
   ],
   "source": [
    "sns.distplot(population)"
   ]
  },
  {
   "cell_type": "code",
   "execution_count": 151,
   "id": "c39d7541-0abc-4f5a-b6bf-850e5e1ce61b",
   "metadata": {},
   "outputs": [],
   "source": [
    "sample_size=3000\n",
    "\n",
    "mean_of_samples=[]\n",
    "for i in range(1,10000):\n",
    "    sample=np.random.choice(population,size=sample_size)\n",
    "    mean_of_samples.append(np.mean(sample))"
   ]
  },
  {
   "cell_type": "code",
   "execution_count": 152,
   "id": "1c07e914-0ac0-439b-800a-9eff9af1ddf0",
   "metadata": {},
   "outputs": [
    {
     "name": "stderr",
     "output_type": "stream",
     "text": [
      "C:\\Users\\jarup\\AppData\\Local\\Temp\\ipykernel_5592\\122225809.py:1: UserWarning: \n",
      "\n",
      "`distplot` is a deprecated function and will be removed in seaborn v0.14.0.\n",
      "\n",
      "Please adapt your code to use either `displot` (a figure-level function with\n",
      "similar flexibility) or `histplot` (an axes-level function for histograms).\n",
      "\n",
      "For a guide to updating your code to use the new functions, please see\n",
      "https://gist.github.com/mwaskom/de44147ed2974457ad6372750bbe5751\n",
      "\n",
      "  sns.distplot(mean_of_samples,kde=True)\n"
     ]
    },
    {
     "data": {
      "text/plain": [
       "<Axes: ylabel='Density'>"
      ]
     },
     "execution_count": 152,
     "metadata": {},
     "output_type": "execute_result"
    },
    {
     "data": {
      "image/png": "[encoded data removed]",
      "text/plain": [
       "<Figure size 640x480 with 1 Axes>"
      ]
     },
     "metadata": {},
     "output_type": "display_data"
    }
   ],
   "source": [
    "sns.distplot(mean_of_samples,kde=True)"
   ]
  },
  {
   "cell_type": "code",
   "execution_count": 155,
   "id": "35733b39-9a99-4243-8a2c-24c71c016d17",
   "metadata": {},
   "outputs": [
    {
     "data": {
      "text/plain": [
       "5.094116811681168"
      ]
     },
     "execution_count": 155,
     "metadata": {},
     "output_type": "execute_result"
    }
   ],
   "source": [
    "np.mean(mean_of_samples)"
   ]
  },
  {
   "cell_type": "code",
   "execution_count": 157,
   "id": "5ea0d0e9-9b4a-45ad-afc2-ccc66f85e73f",
   "metadata": {},
   "outputs": [
    {
     "data": {
      "text/plain": [
       "5.094"
      ]
     },
     "execution_count": 157,
     "metadata": {},
     "output_type": "execute_result"
    }
   ],
   "source": [
    "np.median(mean_of_samples)"
   ]
  },
  {
   "cell_type": "code",
   "execution_count": 159,
   "id": "bb1a56c2-27e4-42a3-860e-1c3c804050ec",
   "metadata": {},
   "outputs": [
    {
     "data": {
      "text/plain": [
       "5.092"
      ]
     },
     "execution_count": 159,
     "metadata": {},
     "output_type": "execute_result"
    }
   ],
   "source": [
    "statistics.mode(mean_of_samples)"
   ]
  },
  {
   "cell_type": "code",
   "execution_count": 161,
   "id": "7ec06d9a-e6fc-4030-bdc8-994d88df63ec",
   "metadata": {},
   "outputs": [],
   "source": [
    "#hence mean == median == mode"
   ]
  },
  {
   "cell_type": "code",
   "execution_count": 163,
   "id": "87fdf2cb-fc04-464b-b8bc-073c6fd1a562",
   "metadata": {},
   "outputs": [],
   "source": [
    "import scipy.stats as stats#scipy is a library"
   ]
  },
  {
   "cell_type": "code",
   "execution_count": 165,
   "id": "822c4267-a678-46b9-9479-3300b3ee0ecc",
   "metadata": {},
   "outputs": [
    {
     "data": {
      "text/plain": [
       "[5.014,\n",
       " 5.045,\n",
       " 5.128,\n",
       " 5.115666666666667,\n",
       " 5.061333333333334,\n",
       " 5.083333333333333,\n",
       " 5.101666666666667,\n",
       " 5.043,\n",
       " 5.085333333333334,\n",
       " 5.110333333333333,\n",
       " 5.089,\n",
       " 5.046666666666667,\n",
       " 5.033666666666667,\n",
       " 5.081333333333333,\n",
       " 5.058666666666666,\n",
       " 5.151666666666666,\n",
       " 5.092,\n",
       " 5.089333333333333,\n",
       " 5.086,\n",
       " 5.106,\n",
       " 5.057666666666667,\n",
       " 5.110666666666667,\n",
       " 5.082666666666666,\n",
       " 5.077,\n",
       " 5.072333333333333,\n",
       " 5.085666666666667,\n",
       " 5.123,\n",
       " 5.063666666666666,\n",
       " 5.132,\n",
       " 5.062666666666667,\n",
       " 5.105333333333333,\n",
       " 5.084333333333333,\n",
       " 5.101666666666667,\n",
       " 5.065666666666667,\n",
       " 5.079666666666666,\n",
       " 5.086,\n",
       " 5.157,\n",
       " 5.0793333333333335,\n",
       " 5.070333333333333,\n",
       " 5.064333333333333,\n",
       " 5.05,\n",
       " 5.044333333333333,\n",
       " 5.113,\n",
       " 5.124333333333333,\n",
       " 5.076666666666667,\n",
       " 5.066,\n",
       " 5.058333333333334,\n",
       " 5.0776666666666666,\n",
       " 5.094,\n",
       " 5.162,\n",
       " 5.110666666666667,\n",
       " 5.116333333333333,\n",
       " 5.041,\n",
       " 5.135666666666666,\n",
       " 5.062333333333333,\n",
       " 5.084333333333333,\n",
       " 5.068333333333333,\n",
       " 5.079666666666666,\n",
       " 5.1113333333333335,\n",
       " 5.138333333333334,\n",
       " 5.131,\n",
       " 5.0906666666666665,\n",
       " 5.091333333333333,\n",
       " 5.060666666666667,\n",
       " 5.1273333333333335,\n",
       " 5.150333333333333,\n",
       " 5.081666666666667,\n",
       " 5.069,\n",
       " 5.130333333333334,\n",
       " 5.11,\n",
       " 5.1113333333333335,\n",
       " 5.095,\n",
       " 5.118,\n",
       " 5.081333333333333,\n",
       " 5.072,\n",
       " 5.095666666666666,\n",
       " 5.088333333333333,\n",
       " 5.148333333333333,\n",
       " 5.165,\n",
       " 5.17,\n",
       " 5.052666666666667,\n",
       " 5.091666666666667,\n",
       " 5.1433333333333335,\n",
       " 5.103666666666666,\n",
       " 5.117333333333334,\n",
       " 5.12,\n",
       " 5.066333333333334,\n",
       " 5.101666666666667,\n",
       " 5.114,\n",
       " 5.078333333333333,\n",
       " 5.151666666666666,\n",
       " 5.098,\n",
       " 5.125333333333334,\n",
       " 5.137333333333333,\n",
       " 5.087666666666666,\n",
       " 5.128666666666667,\n",
       " 5.080333333333333,\n",
       " 5.123,\n",
       " 5.077333333333334,\n",
       " 5.11,\n",
       " 5.101666666666667,\n",
       " 5.132333333333333,\n",
       " 5.088333333333333,\n",
       " 5.111666666666666,\n",
       " 5.125666666666667,\n",
       " 5.0986666666666665,\n",
       " 5.113,\n",
       " 5.113666666666667,\n",
       " 5.101333333333334,\n",
       " 5.081666666666667,\n",
       " 5.080666666666667,\n",
       " 5.074666666666666,\n",
       " 5.116666666666666,\n",
       " 5.062333333333333,\n",
       " 5.116666666666666,\n",
       " 5.094333333333333,\n",
       " 5.127666666666666,\n",
       " 5.042666666666666,\n",
       " 5.089,\n",
       " 5.075,\n",
       " 5.025,\n",
       " 5.021,\n",
       " 5.074,\n",
       " 5.111666666666666,\n",
       " 5.0696666666666665,\n",
       " 5.129333333333333,\n",
       " 5.093,\n",
       " 5.076333333333333,\n",
       " 5.0616666666666665,\n",
       " 5.102666666666667,\n",
       " 5.047666666666666,\n",
       " 5.089333333333333,\n",
       " 5.082,\n",
       " 5.038,\n",
       " 5.0713333333333335,\n",
       " 5.102,\n",
       " 5.136,\n",
       " 5.113,\n",
       " 5.1113333333333335,\n",
       " 5.141,\n",
       " 5.073666666666667,\n",
       " 5.123666666666667,\n",
       " 5.092666666666666,\n",
       " 5.1,\n",
       " 5.065666666666667,\n",
       " 5.080666666666667,\n",
       " 5.108666666666666,\n",
       " 5.112666666666667,\n",
       " 5.120666666666667,\n",
       " 5.049333333333333,\n",
       " 5.0906666666666665,\n",
       " 5.129666666666667,\n",
       " 5.157666666666667,\n",
       " 5.145333333333333,\n",
       " 5.083666666666667,\n",
       " 5.073333333333333,\n",
       " 5.055666666666666,\n",
       " 5.092666666666666,\n",
       " 5.1066666666666665,\n",
       " 5.074,\n",
       " 5.122333333333334,\n",
       " 5.124,\n",
       " 5.132666666666666,\n",
       " 5.071,\n",
       " 5.1146666666666665,\n",
       " 5.068333333333333,\n",
       " 5.116333333333333,\n",
       " 5.120666666666667,\n",
       " 5.093333333333334,\n",
       " 5.120333333333333,\n",
       " 5.085666666666667,\n",
       " 5.145333333333333,\n",
       " 5.0776666666666666,\n",
       " 5.103,\n",
       " 5.062333333333333,\n",
       " 5.093,\n",
       " 5.054333333333333,\n",
       " 5.114333333333334,\n",
       " 5.054333333333333,\n",
       " 5.091666666666667,\n",
       " 5.112333333333333,\n",
       " 5.102666666666667,\n",
       " 5.102333333333333,\n",
       " 5.174666666666667,\n",
       " 5.095666666666666,\n",
       " 5.076666666666667,\n",
       " 5.065333333333333,\n",
       " 5.070666666666667,\n",
       " 5.081666666666667,\n",
       " 5.068333333333333,\n",
       " 5.081,\n",
       " 5.085333333333334,\n",
       " 5.056666666666667,\n",
       " 5.067,\n",
       " 5.134333333333333,\n",
       " 5.016666666666667,\n",
       " 5.057333333333333,\n",
       " 5.069,\n",
       " 5.097333333333333,\n",
       " 5.113666666666667,\n",
       " 5.076,\n",
       " 5.0953333333333335,\n",
       " 5.105666666666667,\n",
       " 5.062333333333333,\n",
       " 5.064666666666667,\n",
       " 5.091666666666667,\n",
       " 5.077333333333334,\n",
       " 5.131333333333333,\n",
       " 5.087,\n",
       " 5.1546666666666665,\n",
       " 5.086333333333333,\n",
       " 5.068,\n",
       " 5.064666666666667,\n",
       " 5.081333333333333,\n",
       " 5.053333333333334,\n",
       " 5.112666666666667,\n",
       " 5.126333333333333,\n",
       " 5.060666666666667,\n",
       " 5.091,\n",
       " 5.033666666666667,\n",
       " 5.088666666666667,\n",
       " 5.099333333333333,\n",
       " 5.097666666666667,\n",
       " 5.107666666666667,\n",
       " 5.087,\n",
       " 5.083666666666667,\n",
       " 5.132,\n",
       " 5.115,\n",
       " 5.092,\n",
       " 5.1226666666666665,\n",
       " 5.043333333333333,\n",
       " 5.09,\n",
       " 5.076,\n",
       " 5.116666666666666,\n",
       " 5.0776666666666666,\n",
       " 5.077333333333334,\n",
       " 5.1033333333333335,\n",
       " 5.091333333333333,\n",
       " 5.112333333333333,\n",
       " 5.183333333333334,\n",
       " 5.07,\n",
       " 5.087,\n",
       " 5.115666666666667,\n",
       " 5.074333333333334,\n",
       " 5.061,\n",
       " 5.058666666666666,\n",
       " 5.1066666666666665,\n",
       " 5.111666666666666,\n",
       " 5.117,\n",
       " 5.055666666666666,\n",
       " 5.078333333333333,\n",
       " 5.101,\n",
       " 5.09,\n",
       " 5.091333333333333,\n",
       " 5.025333333333333,\n",
       " 5.095,\n",
       " 5.119,\n",
       " 5.082666666666666,\n",
       " 5.083,\n",
       " 5.132666666666666,\n",
       " 5.059333333333333,\n",
       " 5.0633333333333335,\n",
       " 5.110333333333333,\n",
       " 5.132,\n",
       " 5.075333333333333,\n",
       " 5.078666666666667,\n",
       " 5.142,\n",
       " 5.084,\n",
       " 5.162333333333334,\n",
       " 5.079666666666666,\n",
       " 5.113333333333333,\n",
       " 5.073333333333333,\n",
       " 5.025,\n",
       " 5.150666666666667,\n",
       " 5.094,\n",
       " 5.059333333333333,\n",
       " 5.086,\n",
       " 5.113666666666667,\n",
       " 5.1033333333333335,\n",
       " 5.082666666666666,\n",
       " 5.123333333333333,\n",
       " 5.105333333333333,\n",
       " 5.123,\n",
       " 5.126,\n",
       " 5.101,\n",
       " 5.114333333333334,\n",
       " 5.113,\n",
       " 5.046,\n",
       " 5.133,\n",
       " 5.139333333333333,\n",
       " 5.098333333333334,\n",
       " 5.091,\n",
       " 5.0776666666666666,\n",
       " 5.073333333333333,\n",
       " 5.096333333333333,\n",
       " 5.126333333333333,\n",
       " 5.088666666666667,\n",
       " 5.055,\n",
       " 5.130333333333334,\n",
       " 5.091333333333333,\n",
       " 5.104333333333333,\n",
       " 5.078666666666667,\n",
       " 5.108,\n",
       " 5.162333333333334,\n",
       " 5.035,\n",
       " 5.087,\n",
       " 5.117333333333334,\n",
       " 5.063666666666666,\n",
       " 5.140666666666666,\n",
       " 5.082333333333334,\n",
       " 5.097333333333333,\n",
       " 5.143,\n",
       " 5.069,\n",
       " 5.055666666666666,\n",
       " 5.11,\n",
       " 5.074333333333334,\n",
       " 5.167333333333334,\n",
       " 5.12,\n",
       " 5.095666666666666,\n",
       " 5.116666666666666,\n",
       " 5.045,\n",
       " 5.112333333333333,\n",
       " 5.083666666666667,\n",
       " 5.089,\n",
       " 5.085333333333334,\n",
       " 5.079666666666666,\n",
       " 5.091,\n",
       " 5.091,\n",
       " 5.088333333333333,\n",
       " 5.129,\n",
       " 5.092,\n",
       " 5.0953333333333335,\n",
       " 5.097,\n",
       " 5.066333333333334,\n",
       " 5.082333333333334,\n",
       " 5.073333333333333,\n",
       " 5.083333333333333,\n",
       " 5.086666666666667,\n",
       " 5.090333333333334,\n",
       " 5.101,\n",
       " 5.116,\n",
       " 5.086333333333333,\n",
       " 5.142666666666667,\n",
       " 5.071666666666666,\n",
       " 5.141,\n",
       " 5.0906666666666665,\n",
       " 5.134,\n",
       " 5.061333333333334,\n",
       " 5.039,\n",
       " 5.118,\n",
       " 5.059,\n",
       " 5.135666666666666,\n",
       " 5.088333333333333,\n",
       " 5.033333333333333,\n",
       " 5.097666666666667,\n",
       " 5.075333333333333,\n",
       " 5.113,\n",
       " 5.028333333333333,\n",
       " 5.106,\n",
       " 5.060333333333333,\n",
       " 5.057,\n",
       " 5.092666666666666,\n",
       " 5.041333333333333,\n",
       " 5.096666666666667,\n",
       " 5.0696666666666665,\n",
       " 5.093666666666667,\n",
       " 5.099,\n",
       " 5.067333333333333,\n",
       " 5.031,\n",
       " 5.093333333333334,\n",
       " 5.057,\n",
       " 5.075666666666667,\n",
       " 5.110333333333333,\n",
       " 5.099666666666667,\n",
       " 5.114,\n",
       " 5.08,\n",
       " 5.041333333333333,\n",
       " 5.132,\n",
       " 5.025333333333333,\n",
       " 5.092666666666666,\n",
       " 5.122333333333334,\n",
       " 5.108,\n",
       " 5.067,\n",
       " 5.105,\n",
       " 5.035,\n",
       " 5.117666666666667,\n",
       " 5.133333333333334,\n",
       " 5.114333333333334,\n",
       " 5.110666666666667,\n",
       " 5.079666666666666,\n",
       " 5.125,\n",
       " 5.127,\n",
       " 5.116333333333333,\n",
       " 5.086666666666667,\n",
       " 5.026,\n",
       " 5.141666666666667,\n",
       " 5.076666666666667,\n",
       " 5.104666666666667,\n",
       " 5.068666666666667,\n",
       " 5.0873333333333335,\n",
       " 5.101666666666667,\n",
       " 5.11,\n",
       " 5.055,\n",
       " 5.115,\n",
       " 5.074,\n",
       " 5.112,\n",
       " 5.15,\n",
       " 5.056,\n",
       " 5.081666666666667,\n",
       " 5.105333333333333,\n",
       " 5.147666666666667,\n",
       " 5.116,\n",
       " 5.113666666666667,\n",
       " 5.086,\n",
       " 5.111,\n",
       " 5.143666666666666,\n",
       " 5.083666666666667,\n",
       " 5.0776666666666666,\n",
       " 5.096333333333333,\n",
       " 5.083,\n",
       " 5.045333333333334,\n",
       " 5.115,\n",
       " 5.080666666666667,\n",
       " 5.048666666666667,\n",
       " 5.091,\n",
       " 5.0536666666666665,\n",
       " 5.1066666666666665,\n",
       " 5.046333333333333,\n",
       " 5.0986666666666665,\n",
       " 5.065333333333333,\n",
       " 5.095,\n",
       " 5.093666666666667,\n",
       " 5.097666666666667,\n",
       " 5.085,\n",
       " 5.071,\n",
       " 5.062666666666667,\n",
       " 5.071666666666666,\n",
       " 5.109,\n",
       " 5.023666666666666,\n",
       " 5.0713333333333335,\n",
       " 5.086333333333333,\n",
       " 5.067666666666667,\n",
       " 5.055666666666666,\n",
       " 5.102,\n",
       " 5.091666666666667,\n",
       " 5.120333333333333,\n",
       " 5.133,\n",
       " 5.069,\n",
       " 5.069333333333334,\n",
       " 5.106333333333334,\n",
       " 5.050333333333334,\n",
       " 5.077333333333334,\n",
       " 5.134,\n",
       " 5.1146666666666665,\n",
       " 5.0793333333333335,\n",
       " 5.0376666666666665,\n",
       " 5.059666666666667,\n",
       " 5.069,\n",
       " 5.077333333333334,\n",
       " 5.070333333333333,\n",
       " 5.115333333333333,\n",
       " 5.121333333333333,\n",
       " 5.0183333333333335,\n",
       " 5.147666666666667,\n",
       " 5.042,\n",
       " 5.119,\n",
       " 5.0906666666666665,\n",
       " 5.0713333333333335,\n",
       " 5.084666666666666,\n",
       " 5.065,\n",
       " 5.109666666666667,\n",
       " 5.150333333333333,\n",
       " 5.141333333333334,\n",
       " 5.136666666666667,\n",
       " 5.139666666666667,\n",
       " 5.072666666666667,\n",
       " 5.132333333333333,\n",
       " 5.111,\n",
       " 5.094,\n",
       " 5.071,\n",
       " 5.112,\n",
       " 5.121666666666667,\n",
       " 5.1,\n",
       " 5.105333333333333,\n",
       " 5.108666666666666,\n",
       " 5.074,\n",
       " 5.073333333333333,\n",
       " 5.1306666666666665,\n",
       " 5.093666666666667,\n",
       " 5.124333333333333,\n",
       " 5.092,\n",
       " 5.144333333333333,\n",
       " 5.101666666666667,\n",
       " 5.082333333333334,\n",
       " 5.089333333333333,\n",
       " 5.072666666666667,\n",
       " 5.062333333333333,\n",
       " 5.089666666666667,\n",
       " 5.111,\n",
       " 5.06,\n",
       " 5.103666666666666,\n",
       " 5.094,\n",
       " 5.097666666666667,\n",
       " 5.081333333333333,\n",
       " 5.0616666666666665,\n",
       " 5.129333333333333,\n",
       " 5.118333333333333,\n",
       " 5.1,\n",
       " 5.122333333333334,\n",
       " 5.153666666666667,\n",
       " 5.091,\n",
       " 5.084333333333333,\n",
       " 5.068333333333333,\n",
       " 5.033666666666667,\n",
       " 5.085333333333334,\n",
       " 5.145666666666667,\n",
       " 5.124,\n",
       " 5.062666666666667,\n",
       " 5.086666666666667,\n",
       " 5.055666666666666,\n",
       " 5.085,\n",
       " 5.0696666666666665,\n",
       " 5.036333333333333,\n",
       " 5.137333333333333,\n",
       " 5.113,\n",
       " 5.072,\n",
       " 5.118333333333333,\n",
       " 5.075,\n",
       " 5.0776666666666666,\n",
       " 5.075333333333333,\n",
       " 5.096333333333333,\n",
       " 5.093666666666667,\n",
       " 5.041,\n",
       " 5.094,\n",
       " 5.152333333333333,\n",
       " 5.092,\n",
       " 5.115,\n",
       " 5.067,\n",
       " 5.045,\n",
       " 5.093,\n",
       " 5.089666666666667,\n",
       " 5.065333333333333,\n",
       " 5.158333333333333,\n",
       " 5.099666666666667,\n",
       " 5.123666666666667,\n",
       " 5.023333333333333,\n",
       " 5.147,\n",
       " 5.128666666666667,\n",
       " 5.071,\n",
       " 5.0873333333333335,\n",
       " 5.106,\n",
       " 5.122,\n",
       " 5.113,\n",
       " 5.108,\n",
       " 5.092666666666666,\n",
       " 5.0873333333333335,\n",
       " 5.131333333333333,\n",
       " 5.075333333333333,\n",
       " 5.114333333333334,\n",
       " 5.076666666666667,\n",
       " 5.120333333333333,\n",
       " 5.070333333333333,\n",
       " 5.099,\n",
       " 5.094333333333333,\n",
       " 5.101,\n",
       " 5.127666666666666,\n",
       " 5.123333333333333,\n",
       " 5.121333333333333,\n",
       " 5.124333333333333,\n",
       " 5.090333333333334,\n",
       " 5.114333333333334,\n",
       " 5.058333333333334,\n",
       " 5.100333333333333,\n",
       " 5.097333333333333,\n",
       " 5.131666666666667,\n",
       " 5.133666666666667,\n",
       " 5.072333333333333,\n",
       " 5.073666666666667,\n",
       " 5.1353333333333335,\n",
       " 5.1146666666666665,\n",
       " 5.101333333333334,\n",
       " 5.099666666666667,\n",
       " 5.049666666666667,\n",
       " 5.118,\n",
       " 5.092333333333333,\n",
       " 5.129,\n",
       " 5.09,\n",
       " 5.08,\n",
       " 5.097,\n",
       " 5.0986666666666665,\n",
       " 5.056,\n",
       " 5.082,\n",
       " 5.091666666666667,\n",
       " 5.112,\n",
       " 5.073,\n",
       " 5.099666666666667,\n",
       " 5.055666666666666,\n",
       " 5.11,\n",
       " 5.086,\n",
       " 5.089666666666667,\n",
       " 5.080333333333333,\n",
       " 5.089,\n",
       " 5.088333333333333,\n",
       " 5.15,\n",
       " 5.111,\n",
       " 5.1033333333333335,\n",
       " 5.145666666666667,\n",
       " 5.1,\n",
       " 5.091666666666667,\n",
       " 5.080333333333333,\n",
       " 5.053,\n",
       " 5.076,\n",
       " 5.1066666666666665,\n",
       " 5.086,\n",
       " 5.098,\n",
       " 5.063666666666666,\n",
       " 5.064,\n",
       " 5.069,\n",
       " 5.138,\n",
       " 5.092666666666666,\n",
       " 5.106,\n",
       " 5.104333333333333,\n",
       " 5.153333333333333,\n",
       " 5.149333333333334,\n",
       " 5.134,\n",
       " 5.104,\n",
       " 5.127,\n",
       " 5.100333333333333,\n",
       " 5.063666666666666,\n",
       " 5.065666666666667,\n",
       " 5.125666666666667,\n",
       " 5.102333333333333,\n",
       " 5.049333333333333,\n",
       " 5.159,\n",
       " 5.0776666666666666,\n",
       " 5.139,\n",
       " 5.057,\n",
       " 5.109666666666667,\n",
       " 5.150666666666667,\n",
       " 5.101,\n",
       " 5.105666666666667,\n",
       " 5.1033333333333335,\n",
       " 5.059333333333333,\n",
       " 5.118,\n",
       " 5.0473333333333334,\n",
       " 5.157666666666667,\n",
       " 5.071666666666666,\n",
       " 5.049666666666667,\n",
       " 5.1513333333333335,\n",
       " 5.04,\n",
       " 5.073666666666667,\n",
       " 5.041,\n",
       " 5.154333333333334,\n",
       " 5.128333333333333,\n",
       " 5.076333333333333,\n",
       " 5.1433333333333335,\n",
       " 5.120333333333333,\n",
       " 5.133666666666667,\n",
       " 5.1033333333333335,\n",
       " 5.082666666666666,\n",
       " 5.054666666666667,\n",
       " 5.083666666666667,\n",
       " 5.101,\n",
       " 5.090333333333334,\n",
       " 5.126666666666667,\n",
       " 5.108333333333333,\n",
       " 5.133666666666667,\n",
       " 5.116333333333333,\n",
       " 5.123666666666667,\n",
       " 5.163333333333333,\n",
       " 5.034,\n",
       " 5.068333333333333,\n",
       " 5.123,\n",
       " 5.095,\n",
       " 5.056333333333333,\n",
       " 5.036666666666667,\n",
       " 5.114333333333334,\n",
       " 5.093,\n",
       " 5.081666666666667,\n",
       " 5.069333333333334,\n",
       " 5.119,\n",
       " 5.060333333333333,\n",
       " 5.0793333333333335,\n",
       " 5.098333333333334,\n",
       " 5.0553333333333335,\n",
       " 5.093666666666667,\n",
       " 5.061,\n",
       " 5.111,\n",
       " 5.092333333333333,\n",
       " 5.100666666666666,\n",
       " 5.060333333333333,\n",
       " 5.091,\n",
       " 5.106,\n",
       " 5.120666666666667,\n",
       " 5.062,\n",
       " 5.141333333333334,\n",
       " 5.095666666666666,\n",
       " 5.076666666666667,\n",
       " 5.083,\n",
       " 5.080666666666667,\n",
       " 5.095666666666666,\n",
       " 5.122,\n",
       " 5.091333333333333,\n",
       " 4.992333333333334,\n",
       " 5.080666666666667,\n",
       " 5.0696666666666665,\n",
       " 5.142666666666667,\n",
       " 5.184333333333333,\n",
       " 5.100666666666666,\n",
       " 5.080666666666667,\n",
       " 5.077333333333334,\n",
       " 5.072,\n",
       " 5.1146666666666665,\n",
       " 5.109333333333334,\n",
       " 5.118666666666667,\n",
       " 5.05,\n",
       " 5.105333333333333,\n",
       " 5.104666666666667,\n",
       " 5.101,\n",
       " 5.064,\n",
       " 5.050666666666666,\n",
       " 5.133,\n",
       " 5.083666666666667,\n",
       " 5.071666666666666,\n",
       " 5.1273333333333335,\n",
       " 5.101333333333334,\n",
       " 5.100666666666666,\n",
       " 5.104333333333333,\n",
       " 5.088,\n",
       " 5.065666666666667,\n",
       " 5.1386666666666665,\n",
       " 5.06,\n",
       " 5.041,\n",
       " 5.075,\n",
       " 5.118666666666667,\n",
       " 5.120666666666667,\n",
       " 5.115,\n",
       " 5.125333333333334,\n",
       " 5.061333333333334,\n",
       " 5.083666666666667,\n",
       " 5.102333333333333,\n",
       " 5.127666666666666,\n",
       " 5.137666666666667,\n",
       " 5.126333333333333,\n",
       " 5.080666666666667,\n",
       " 5.139333333333333,\n",
       " 5.071,\n",
       " 5.078666666666667,\n",
       " 5.092,\n",
       " 5.094,\n",
       " 5.145666666666667,\n",
       " 5.065666666666667,\n",
       " 5.064,\n",
       " 5.133333333333334,\n",
       " 5.087666666666666,\n",
       " 5.031,\n",
       " 5.121,\n",
       " 5.097666666666667,\n",
       " 5.088333333333333,\n",
       " 5.054333333333333,\n",
       " 5.044333333333333,\n",
       " 5.115666666666667,\n",
       " 5.114333333333334,\n",
       " 5.094,\n",
       " 5.107,\n",
       " 5.065,\n",
       " 5.108333333333333,\n",
       " 5.153666666666667,\n",
       " 5.124666666666666,\n",
       " 5.077333333333334,\n",
       " 5.140333333333333,\n",
       " 5.076,\n",
       " 5.0906666666666665,\n",
       " 5.0776666666666666,\n",
       " 5.086,\n",
       " 5.085333333333334,\n",
       " 5.062333333333333,\n",
       " 5.1353333333333335,\n",
       " 5.120666666666667,\n",
       " 5.0986666666666665,\n",
       " 5.065333333333333,\n",
       " 5.061333333333334,\n",
       " 5.108666666666666,\n",
       " 5.054333333333333,\n",
       " 5.118666666666667,\n",
       " 5.059666666666667,\n",
       " 5.111,\n",
       " 5.133,\n",
       " 5.064333333333333,\n",
       " 5.084333333333333,\n",
       " 5.093,\n",
       " 5.11,\n",
       " 5.153,\n",
       " 5.113666666666667,\n",
       " 5.073333333333333,\n",
       " 5.135666666666666,\n",
       " 5.086333333333333,\n",
       " 5.088666666666667,\n",
       " 5.12,\n",
       " 5.041,\n",
       " 5.109666666666667,\n",
       " 5.1113333333333335,\n",
       " 5.084333333333333,\n",
       " 5.082,\n",
       " 5.116666666666666,\n",
       " 5.097,\n",
       " 5.125666666666667,\n",
       " 5.085666666666667,\n",
       " 5.125333333333334,\n",
       " 5.091666666666667,\n",
       " 5.038666666666667,\n",
       " 5.113333333333333,\n",
       " 5.0986666666666665,\n",
       " 5.119666666666666,\n",
       " 5.074,\n",
       " 5.110333333333333,\n",
       " 5.082666666666666,\n",
       " 5.048333333333333,\n",
       " 5.141666666666667,\n",
       " 5.086,\n",
       " 5.043333333333333,\n",
       " 5.037,\n",
       " 5.075333333333333,\n",
       " 5.126,\n",
       " 5.093666666666667,\n",
       " 5.081333333333333,\n",
       " 5.070333333333333,\n",
       " 5.100666666666666,\n",
       " 5.077,\n",
       " 5.148,\n",
       " 5.089,\n",
       " 5.072666666666667,\n",
       " 5.074333333333334,\n",
       " 5.136333333333333,\n",
       " 5.097333333333333,\n",
       " 5.158,\n",
       " 5.101333333333334,\n",
       " 5.053333333333334,\n",
       " 5.063666666666666,\n",
       " 5.072,\n",
       " 5.056,\n",
       " 5.065666666666667,\n",
       " 5.089666666666667,\n",
       " 5.138333333333334,\n",
       " 5.0906666666666665,\n",
       " 5.051,\n",
       " 5.097,\n",
       " 5.098333333333334,\n",
       " 5.113,\n",
       " 5.038666666666667,\n",
       " 5.131666666666667,\n",
       " 5.078,\n",
       " 5.114333333333334,\n",
       " 5.151,\n",
       " 5.1723333333333334,\n",
       " 5.0793333333333335,\n",
       " 5.107333333333333,\n",
       " 5.100666666666666,\n",
       " 5.129333333333333,\n",
       " 5.108333333333333,\n",
       " 5.052,\n",
       " 5.103666666666666,\n",
       " 5.080666666666667,\n",
       " 5.085,\n",
       " 5.080666666666667,\n",
       " 5.139333333333333,\n",
       " 5.039666666666666,\n",
       " 5.107666666666667,\n",
       " 5.095,\n",
       " 5.025333333333333,\n",
       " 5.083666666666667,\n",
       " 5.107333333333333,\n",
       " 5.038,\n",
       " 5.0696666666666665,\n",
       " 5.099,\n",
       " 5.088333333333333,\n",
       " 5.125,\n",
       " 5.104333333333333,\n",
       " 5.043,\n",
       " 5.064,\n",
       " 5.139666666666667,\n",
       " 5.1033333333333335,\n",
       " 5.100666666666666,\n",
       " 5.103,\n",
       " 5.080666666666667,\n",
       " 5.115333333333333,\n",
       " 5.070666666666667,\n",
       " 5.0713333333333335,\n",
       " 5.0536666666666665,\n",
       " 5.1306666666666665,\n",
       " 5.074666666666666,\n",
       " 5.145666666666667,\n",
       " 5.113333333333333,\n",
       " 5.068666666666667,\n",
       " 5.0183333333333335,\n",
       " 5.124,\n",
       " 5.096333333333333,\n",
       " 5.095,\n",
       " 5.079,\n",
       " 5.067,\n",
       " 5.048666666666667,\n",
       " 5.13,\n",
       " 5.093666666666667,\n",
       " 5.095,\n",
       " 5.080666666666667,\n",
       " 5.103,\n",
       " 5.0793333333333335,\n",
       " 5.109666666666667,\n",
       " 5.059333333333333,\n",
       " 5.066666666666666,\n",
       " 5.052,\n",
       " 5.074333333333334,\n",
       " 5.141666666666667,\n",
       " 5.120666666666667,\n",
       " 5.037333333333334,\n",
       " 5.143666666666666,\n",
       " 5.097,\n",
       " 5.0906666666666665,\n",
       " 5.064,\n",
       " 5.112,\n",
       " 5.109333333333334,\n",
       " 5.085333333333334,\n",
       " 5.121333333333333,\n",
       " 5.112,\n",
       " 5.086333333333333,\n",
       " 5.076666666666667,\n",
       " 5.083,\n",
       " 5.080666666666667,\n",
       " 5.098333333333334,\n",
       " 5.065,\n",
       " 5.097333333333333,\n",
       " 5.060333333333333,\n",
       " 5.1,\n",
       " 5.106333333333334,\n",
       " 5.107,\n",
       " 5.120666666666667,\n",
       " 5.122333333333334,\n",
       " 5.013,\n",
       " 5.105,\n",
       " 5.106333333333334,\n",
       " 5.024,\n",
       " 5.059666666666667,\n",
       " 5.107333333333333,\n",
       " 5.0536666666666665,\n",
       " 5.074333333333334,\n",
       " 5.142,\n",
       " 5.124333333333333,\n",
       " 5.073666666666667,\n",
       " 5.069333333333334,\n",
       " 5.099666666666667,\n",
       " 5.103666666666666,\n",
       " 5.071666666666666,\n",
       " 5.107333333333333,\n",
       " 5.171,\n",
       " 5.0296666666666665,\n",
       " 5.148333333333333,\n",
       " 5.121666666666667,\n",
       " 5.1146666666666665,\n",
       " 5.046666666666667,\n",
       " 5.048666666666667,\n",
       " 5.076666666666667,\n",
       " 5.0553333333333335,\n",
       " 5.091666666666667,\n",
       " 5.092333333333333,\n",
       " 5.0536666666666665,\n",
       " 5.118333333333333,\n",
       " 5.142,\n",
       " 5.092,\n",
       " 5.077333333333334,\n",
       " 5.071666666666666,\n",
       " 5.086,\n",
       " 5.079666666666666,\n",
       " 5.078,\n",
       " 5.112,\n",
       " 5.068333333333333,\n",
       " 5.098,\n",
       " 5.081333333333333,\n",
       " 5.0696666666666665,\n",
       " 5.113,\n",
       " 5.142,\n",
       " 5.097,\n",
       " 5.101333333333334,\n",
       " 5.102333333333333,\n",
       " 5.115666666666667,\n",
       " 5.094666666666667,\n",
       " 5.080333333333333,\n",
       " 5.133,\n",
       " 5.074666666666666,\n",
       " 5.101,\n",
       " 5.060666666666667,\n",
       " 5.158666666666667,\n",
       " 5.084,\n",
       " 5.125666666666667,\n",
       " 5.050333333333334,\n",
       " 5.093666666666667,\n",
       " 5.100333333333333,\n",
       " 5.129,\n",
       " 5.091,\n",
       " 5.0873333333333335,\n",
       " 5.132333333333333,\n",
       " ...]"
      ]
     },
     "execution_count": 165,
     "metadata": {},
     "output_type": "execute_result"
    }
   ],
   "source": [
    "mean_of_samples"
   ]
  },
  {
   "cell_type": "code",
   "execution_count": 167,
   "id": "00429c97-ea3a-4ddd-8f0f-edcb928fda61",
   "metadata": {},
   "outputs": [
    {
     "data": {
      "text/plain": [
       "1.8807936081512509"
      ]
     },
     "execution_count": 167,
     "metadata": {},
     "output_type": "execute_result"
    }
   ],
   "source": [
    "#z critical for given alpha ,ztable\n",
    "z_critical=stats.norm.ppf(q=0.97)\n",
    "z_critical\n",
    "#0.95 is the ci(confident interval)\n",
    "#to calculate the z critical we only need alpha value or ci"
   ]
  },
  {
   "cell_type": "code",
   "execution_count": 169,
   "id": "98f0a7ab-bf23-49f5-bd6a-ecfc01b10656",
   "metadata": {},
   "outputs": [
    {
     "data": {
      "text/plain": [
       "1.973994288847133"
      ]
     },
     "execution_count": 169,
     "metadata": {},
     "output_type": "execute_result"
    }
   ],
   "source": [
    "#tcritical for given alpha ,t table\n",
    "stats.t.ppf(df=24,q=0.97)\n",
    "#for calculating the t critcal we need degree of freedom and alph or ci values"
   ]
  },
  {
   "cell_type": "code",
   "execution_count": 171,
   "id": "cd6d4bbd-e3b0-46da-9e9e-f58c4cb7eb24",
   "metadata": {},
   "outputs": [],
   "source": [
    "#margin error\n",
    "margin_of_error= z_critical * np.std(mean_of_samples)/np.sqrt(20)"
   ]
  },
  {
   "cell_type": "code",
   "execution_count": 173,
   "id": "8e3f575d-e94e-4024-ab90-e098d4653e25",
   "metadata": {},
   "outputs": [
    {
     "data": {
      "text/plain": [
       "0.012432653967590081"
      ]
     },
     "execution_count": 173,
     "metadata": {},
     "output_type": "execute_result"
    }
   ],
   "source": [
    "margin_of_error"
   ]
  },
  {
   "cell_type": "code",
   "execution_count": 175,
   "id": "87dcb12b-4278-466e-b65c-610da66b5860",
   "metadata": {},
   "outputs": [
    {
     "data": {
      "text/plain": [
       "(5.081684157713578, 5.106549465648758)"
      ]
     },
     "execution_count": 175,
     "metadata": {},
     "output_type": "execute_result"
    }
   ],
   "source": [
    "#confidence interval\n",
    "np.mean(mean_of_samples)-margin_of_error,np.mean(mean_of_samples)+margin_of_error"
   ]
  },
  {
   "cell_type": "code",
   "execution_count": 177,
   "id": "b184d438-6dab-4fa1-97cd-49ba2cd25217",
   "metadata": {},
   "outputs": [
    {
     "data": {
      "text/plain": [
       "array([-0.05764376, -0.79505977,  1.71546178, -0.73457347,  0.68913172,\n",
       "        0.54934279,  0.34431148, -0.91219839, -1.07353332,  0.10976824,\n",
       "        1.09151844,  0.38344674,  1.20684185,  0.8281777 ,  0.4272468 ,\n",
       "        0.02499133,  0.68109938,  0.17973704,  1.88753974,  0.59123228,\n",
       "       -0.67365634,  0.81204905,  0.4296383 ,  0.40387409, -1.85936709,\n",
       "       -0.10605304,  0.3369344 ,  0.29108137, -0.41926649,  0.37946134,\n",
       "        0.31383277,  2.14798642, -0.90281882, -0.95539156, -0.41951015,\n",
       "        0.45382467, -2.22862499, -1.81913279,  1.5111203 ,  1.08144241,\n",
       "        0.12271558,  1.04391759,  0.5194349 ,  0.22555024,  0.53233688,\n",
       "        0.88886223,  0.2324305 , -0.29678819,  2.41361129, -1.63270294,\n",
       "        0.56903915, -0.17897531,  0.22418692, -0.72335742, -0.8769694 ,\n",
       "        0.83974986,  0.07552401,  0.98067031, -0.66284368, -0.81441489,\n",
       "        0.57146688, -1.12164521,  1.04434664,  0.91126789, -0.04100275,\n",
       "        0.14475115, -2.04971132,  0.27655936, -0.79303588, -0.97729691,\n",
       "       -0.25613688,  0.61366569,  0.27546095, -2.12549947, -0.06209275,\n",
       "       -0.98617041,  0.60410575,  0.97149917,  0.86369494, -0.29574633,\n",
       "        0.784872  , -1.11309268, -1.68901981, -1.83771416, -1.5124564 ,\n",
       "        2.31739601,  1.57864263, -0.62415462,  1.85089727,  0.29495553,\n",
       "       -1.76276598,  0.47130145, -0.13067093, -0.25728156, -0.00325159,\n",
       "        0.78559809, -0.93200246, -0.68865571,  0.28286105, -0.91927776])"
      ]
     },
     "execution_count": 177,
     "metadata": {},
     "output_type": "execute_result"
    }
   ],
   "source": [
    "#z test implementation\n",
    "\n",
    "from numpy.random import randn\n",
    "population=randn(100)\n",
    "population"
   ]
  },
  {
   "cell_type": "code",
   "execution_count": 179,
   "id": "db5299be-e57e-46eb-82cb-6fa396bf3bfc",
   "metadata": {},
   "outputs": [
    {
     "name": "stderr",
     "output_type": "stream",
     "text": [
      "C:\\Users\\jarup\\AppData\\Local\\Temp\\ipykernel_5592\\2958836585.py:1: UserWarning: \n",
      "\n",
      "`distplot` is a deprecated function and will be removed in seaborn v0.14.0.\n",
      "\n",
      "Please adapt your code to use either `displot` (a figure-level function with\n",
      "similar flexibility) or `histplot` (an axes-level function for histograms).\n",
      "\n",
      "For a guide to updating your code to use the new functions, please see\n",
      "https://gist.github.com/mwaskom/de44147ed2974457ad6372750bbe5751\n",
      "\n",
      "  sns.distplot(population)\n"
     ]
    },
    {
     "data": {
      "text/plain": [
       "<Axes: ylabel='Density'>"
      ]
     },
     "execution_count": 179,
     "metadata": {},
     "output_type": "execute_result"
    },
    {
     "data": {
      "image/png": "[encoded data removed]",
      "text/plain": [
       "<Figure size 640x480 with 1 Axes>"
      ]
     },
     "metadata": {},
     "output_type": "display_data"
    }
   ],
   "source": [
    "sns.distplot(population)"
   ]
  },
  {
   "cell_type": "code",
   "execution_count": 181,
   "id": "a1c79c14-6f6b-462f-8d0f-214b66148902",
   "metadata": {},
   "outputs": [
    {
     "data": {
      "text/plain": [
       "0.03860900908263489"
      ]
     },
     "execution_count": 181,
     "metadata": {},
     "output_type": "execute_result"
    }
   ],
   "source": [
    "np.mean(population)"
   ]
  },
  {
   "cell_type": "code",
   "execution_count": 183,
   "id": "f598f165-9ee0-441f-b241-877ca0b66d93",
   "metadata": {},
   "outputs": [
    {
     "data": {
      "text/plain": [
       "0.22486857913903913"
      ]
     },
     "execution_count": 183,
     "metadata": {},
     "output_type": "execute_result"
    }
   ],
   "source": [
    "np.median(population)"
   ]
  },
  {
   "cell_type": "code",
   "execution_count": 185,
   "id": "6a270998-9cbb-4ad4-b9a6-6ed5af19f697",
   "metadata": {},
   "outputs": [
    {
     "data": {
      "text/plain": [
       "1.002584240936836"
      ]
     },
     "execution_count": 185,
     "metadata": {},
     "output_type": "execute_result"
    }
   ],
   "source": [
    "np.std(population)"
   ]
  },
  {
   "cell_type": "code",
   "execution_count": 187,
   "id": "5fcaa4be-a0b0-46df-94ee-d7a51cd6efe1",
   "metadata": {},
   "outputs": [],
   "source": [
    "null_mean=0.05  #claim  \n",
    "#if pvalue <=0.05 -- reject null hypothesis\n",
    "#if pvalue >0.05 -- fail to reject null hypothesis\n",
    "\n",
    "from statsmodels.stats.weightstats import ztest"
   ]
  },
  {
   "cell_type": "code",
   "execution_count": 189,
   "id": "701d5a6d-8970-4466-a68f-fddd4588e425",
   "metadata": {},
   "outputs": [],
   "source": [
    "zscore,pvalue=ztest(population,value=null_mean,alternative='larger')#here alternative means,mean is grater than null mean"
   ]
  },
  {
   "cell_type": "code",
   "execution_count": 191,
   "id": "ea5fe113-2b5d-4137-a641-cfbce0bde06d",
   "metadata": {},
   "outputs": [
    {
     "data": {
      "text/plain": [
       "-0.11304678845124544"
      ]
     },
     "execution_count": 191,
     "metadata": {},
     "output_type": "execute_result"
    }
   ],
   "source": [
    "zscore"
   ]
  },
  {
   "cell_type": "code",
   "execution_count": 193,
   "id": "7b1ef9ac-14dc-48a9-93d6-75fdf3b4bea2",
   "metadata": {},
   "outputs": [
    {
     "data": {
      "text/plain": [
       "0.5450032694424077"
      ]
     },
     "execution_count": 193,
     "metadata": {},
     "output_type": "execute_result"
    }
   ],
   "source": [
    "pvalue"
   ]
  },
  {
   "cell_type": "code",
   "execution_count": 195,
   "id": "039e199d-66ec-4edc-918b-697f49b6b640",
   "metadata": {},
   "outputs": [
    {
     "name": "stdout",
     "output_type": "stream",
     "text": [
      "fail to reject null hypothesis\n"
     ]
    }
   ],
   "source": [
    "if pvalue<=0.05:\n",
    "    print('reject the null hypothesis')\n",
    "else:\n",
    "    print('fail to reject null hypothesis')"
   ]
  },
  {
   "cell_type": "code",
   "execution_count": null,
   "id": "f30eb368-64f0-46ee-96fa-8549f66ee5eb",
   "metadata": {},
   "outputs": [],
   "source": [
    "#A school calculated iq scores of 50 students, the average iq  turned out to be 100. the mean of population iq is 90 \n",
    "#and the std deviation 16. \\\n",
    "#state whether the claim by school \n",
    "#that IQ increases if student study more than avg of school with 5% of significance level\n",
    "\n",
    "#null hypothesis : mean_iq = 90\n",
    "#Alternate: mean_iq > 90"
   ]
  },
  {
   "cell_type": "code",
   "execution_count": 199,
   "id": "f7129244-2ab0-4986-ab0e-b80197b64ae5",
   "metadata": {},
   "outputs": [],
   "source": [
    "#z critical\n",
    "import scipy.stats as stats\n",
    "\n",
    "sample_mean=100\n",
    "population_mean=90\n",
    "population_std=16\n",
    "sample_size=50\n",
    "alpha=0.05\n"
   ]
  },
  {
   "cell_type": "code",
   "execution_count": 201,
   "id": "62189a7d-c9f3-487b-b176-2fc3d0ef5609",
   "metadata": {},
   "outputs": [],
   "source": [
    "zscore=(sample_mean - population_mean)/(population_std/np.sqrt(sample_size))"
   ]
  },
  {
   "cell_type": "code",
   "execution_count": 203,
   "id": "e9c90fde-3241-4173-827d-09bb1eb08f3a",
   "metadata": {},
   "outputs": [
    {
     "data": {
      "text/plain": [
       "4.419417382415922"
      ]
     },
     "execution_count": 203,
     "metadata": {},
     "output_type": "execute_result"
    }
   ],
   "source": [
    "zscore"
   ]
  },
  {
   "cell_type": "code",
   "execution_count": 221,
   "id": "feb7b36e-a44c-4b3c-b877-8698da3dafbe",
   "metadata": {},
   "outputs": [
    {
     "data": {
      "text/plain": [
       "1.6448536269514722"
      ]
     },
     "execution_count": 221,
     "metadata": {},
     "output_type": "execute_result"
    }
   ],
   "source": [
    "#stats module in scipy >> zcritical\n",
    "#percent point function >>inverse of cdf\n",
    "zcritical=stats.norm.ppf(1-alpha)\n",
    "zcritical"
   ]
  },
  {
   "cell_type": "code",
   "execution_count": 223,
   "id": "e674fb07-06a5-4417-ab5b-85731b948b60",
   "metadata": {},
   "outputs": [
    {
     "name": "stdout",
     "output_type": "stream",
     "text": [
      "reject the H0\n"
     ]
    }
   ],
   "source": [
    "if zscore>zcritical:\n",
    "    print('reject the H0')\n",
    "else:\n",
    "    print('fail to reject the H0')"
   ]
  },
  {
   "cell_type": "code",
   "execution_count": 225,
   "id": "673152cc-36b8-41e6-a2e8-0c8130c0eaa3",
   "metadata": {},
   "outputs": [
    {
     "data": {
      "text/plain": [
       "4.948367312573865e-06"
      ]
     },
     "execution_count": 225,
     "metadata": {},
     "output_type": "execute_result"
    }
   ],
   "source": [
    "#pvalue approach using scipy\n",
    "pvalue=1-stats.norm.cdf(zscore)\n",
    "pvalue"
   ]
  },
  {
   "cell_type": "code",
   "execution_count": 227,
   "id": "11e094be-37ed-4682-aa45-98e7010aa77b",
   "metadata": {},
   "outputs": [
    {
     "name": "stdout",
     "output_type": "stream",
     "text": [
      "reject the H0\n"
     ]
    }
   ],
   "source": [
    "if pvalue<=alpha:\n",
    "    print('reject the H0')\n",
    "else:\n",
    "    print('fail to reject the H0')"
   ]
  },
  {
   "cell_type": "code",
   "execution_count": null,
   "id": "7a0e6441-3d0f-46d8-93ad-b4ffa381a8c2",
   "metadata": {},
   "outputs": [],
   "source": [
    "#how to know if the given data is normally distributed or not\n",
    "#distribution plot,q-q plot(quantile-quantile plot)\n",
    "#statistical test "
   ]
  },
  {
   "cell_type": "code",
   "execution_count": null,
   "id": "59ac96ff-dfef-41f2-b708-95897585a77b",
   "metadata": {},
   "outputs": [],
   "source": [
    "#T test >> ss<30 or sigma of pop is not given\n",
    "#one sample t test (wrt one independent sample)\n",
    "#two sample t test(wrt two independent sample)\n",
    "#paired t test(two samples from same population from different time interval)"
   ]
  },
  {
   "cell_type": "code",
   "execution_count": 229,
   "id": "4b67c0a2-e50b-4131-ba4a-1cb869edea9a",
   "metadata": {},
   "outputs": [],
   "source": [
    "#one sample t test"
   ]
  },
  {
   "cell_type": "code",
   "execution_count": 231,
   "id": "93689480-4270-466b-aa77-ef552a337b9b",
   "metadata": {},
   "outputs": [],
   "source": [
    "population =np.random.randint(10,50,50)"
   ]
  },
  {
   "cell_type": "code",
   "execution_count": 233,
   "id": "236b0e96-296c-4ee5-be02-4fd63ecd35a9",
   "metadata": {},
   "outputs": [
    {
     "data": {
      "text/plain": [
       "array([49, 22, 28, 25, 49, 40, 48, 36, 24, 43, 45, 37, 36, 44, 14, 22, 48,\n",
       "       21, 18, 15, 30, 47, 14, 38, 29, 42, 13, 27, 45, 33, 25, 21, 34, 10,\n",
       "       29, 34, 45, 49, 25, 44, 45, 39, 19, 15, 47, 36, 36, 15, 14, 41])"
      ]
     },
     "execution_count": 233,
     "metadata": {},
     "output_type": "execute_result"
    }
   ],
   "source": [
    "population"
   ]
  },
  {
   "cell_type": "code",
   "execution_count": 235,
   "id": "d207e4dc-7aee-4767-990d-43dc5ff5e1c1",
   "metadata": {},
   "outputs": [],
   "source": [
    "sample=np.random.choice(population,20)"
   ]
  },
  {
   "cell_type": "code",
   "execution_count": 237,
   "id": "f0f4c214-6876-4fb6-82b8-6997d90cc577",
   "metadata": {},
   "outputs": [
    {
     "data": {
      "text/plain": [
       "34.9"
      ]
     },
     "execution_count": 237,
     "metadata": {},
     "output_type": "execute_result"
    }
   ],
   "source": [
    "np.mean(sample)"
   ]
  },
  {
   "cell_type": "code",
   "execution_count": 241,
   "id": "1a3e18d1-c216-4c53-8523-35f429bee31e",
   "metadata": {},
   "outputs": [
    {
     "data": {
      "text/plain": [
       "TtestResult(statistic=3.9727331518303837, pvalue=0.0008154325455314692, df=19)"
      ]
     },
     "execution_count": 241,
     "metadata": {},
     "output_type": "execute_result"
    }
   ],
   "source": [
    "null_value=25 # the mean of the population is 25\n",
    "import scipy\n",
    "scipy.stats.ttest_1samp(sample,null_value)"
   ]
  },
  {
   "cell_type": "code",
   "execution_count": 243,
   "id": "f2f9b3db-51fb-4c41-8f5f-b854bec2600b",
   "metadata": {},
   "outputs": [],
   "source": [
    "#if p value > 0.05 ,fail to reject the h0"
   ]
  },
  {
   "cell_type": "code",
   "execution_count": 245,
   "id": "482fd286-ec7d-4a34-8a6a-5078c857f908",
   "metadata": {},
   "outputs": [],
   "source": [
    "#two sample t test"
   ]
  },
  {
   "cell_type": "code",
   "execution_count": 278,
   "id": "8cc8ddf0-f68a-45f4-9c3d-85510462e028",
   "metadata": {},
   "outputs": [],
   "source": [
    "virat_kohil_score=np.random.choice(population,20)"
   ]
  },
  {
   "cell_type": "code",
   "execution_count": 280,
   "id": "f55c5255-bcaa-41c0-89c6-5c7576f14250",
   "metadata": {},
   "outputs": [
    {
     "data": {
      "text/plain": [
       "array([25, 19, 41, 39, 22, 49, 36, 44, 15, 25, 15, 36, 19, 43, 47, 36, 21,\n",
       "       48, 49, 21])"
      ]
     },
     "execution_count": 280,
     "metadata": {},
     "output_type": "execute_result"
    }
   ],
   "source": [
    "virat_kohil_score"
   ]
  },
  {
   "cell_type": "code",
   "execution_count": 261,
   "id": "9187b7ea-4eef-4b9f-9daf-ed5f4d46ea61",
   "metadata": {},
   "outputs": [],
   "source": [
    "rohit_sharma_score=[36, 45, 22, 25, 49, 30, 34, 21, 36, 48, 49, 21, 40, 45, 40, 47, 22,18, 45, 15]"
   ]
  },
  {
   "cell_type": "code",
   "execution_count": 263,
   "id": "6d45eb7b-b010-4c09-919f-71f1b810f2fd",
   "metadata": {},
   "outputs": [
    {
     "data": {
      "text/plain": [
       "(34.4, 34.4)"
      ]
     },
     "execution_count": 263,
     "metadata": {},
     "output_type": "execute_result"
    }
   ],
   "source": [
    "np.mean(rohit_sharma_score),np.mean(virat_kohil_score)"
   ]
  },
  {
   "cell_type": "code",
   "execution_count": 265,
   "id": "c34014f5-c610-459e-9b60-4db431d0852e",
   "metadata": {},
   "outputs": [
    {
     "data": {
      "text/plain": [
       "TtestResult(statistic=0.0, pvalue=1.0, df=38.0)"
      ]
     },
     "execution_count": 265,
     "metadata": {},
     "output_type": "execute_result"
    }
   ],
   "source": [
    "scipy.stats.ttest_ind(virat_kohil_score,rohit_sharma_score)"
   ]
  },
  {
   "cell_type": "code",
   "execution_count": 267,
   "id": "85486c95-7dad-49fb-ae6b-75cc0c361cdb",
   "metadata": {},
   "outputs": [],
   "source": [
    "# if p value >0.05,fail to reject the h0"
   ]
  },
  {
   "cell_type": "code",
   "execution_count": 269,
   "id": "37c64b31-f4d2-4e70-82ae-e5f286a23496",
   "metadata": {},
   "outputs": [],
   "source": [
    "#paired t test >> two sample from same population at different time interval"
   ]
  },
  {
   "cell_type": "code",
   "execution_count": 292,
   "id": "6b1b05ae-ce15-4cbb-bb9b-f2f3c66be564",
   "metadata": {},
   "outputs": [],
   "source": [
    "rohit_score_first_inning=[36, 45, 22, 25, 49, 30, 34, 21, 36, 48, 49, 21, 40, 45, 40, 47, 22,18, 45, 15]\n",
    "rohit_score_second_inning=[25, 19, 41, 39, 22, 49, 36, 44, 15, 25, 15, 36, 19, 43, 47, 36, 21,9, 21,20]"
   ]
  },
  {
   "cell_type": "code",
   "execution_count": 294,
   "id": "588b8481-48ad-40a5-bb35-734d84af05b6",
   "metadata": {},
   "outputs": [
    {
     "data": {
      "text/plain": [
       "(34.4, 29.1)"
      ]
     },
     "execution_count": 294,
     "metadata": {},
     "output_type": "execute_result"
    }
   ],
   "source": [
    "np.mean(rohit_score_first_inning),np.mean(rohit_score_second_inning)"
   ]
  },
  {
   "cell_type": "code",
   "execution_count": 296,
   "id": "7fa5ea0e-97c2-43ce-ac15-c986941f4054",
   "metadata": {},
   "outputs": [
    {
     "data": {
      "text/plain": [
       "TtestResult(statistic=1.326724991048744, pvalue=0.20032551122897896, df=19)"
      ]
     },
     "execution_count": 296,
     "metadata": {},
     "output_type": "execute_result"
    }
   ],
   "source": [
    "scipy.stats.ttest_rel(rohit_score_first_inning,rohit_score_second_inning)"
   ]
  },
  {
   "cell_type": "code",
   "execution_count": null,
   "id": "392a57e3-25e6-486d-9cd5-75a007719898",
   "metadata": {},
   "outputs": [],
   "source": []
  },
  {
   "cell_type": "code",
   "execution_count": null,
   "id": "5ddc169e-93d6-4f1c-bf38-d2441972b804",
   "metadata": {},
   "outputs": [],
   "source": []
  },
  {
   "cell_type": "code",
   "execution_count": null,
   "id": "1639475c-326f-4946-8fd6-c6f3b5270381",
   "metadata": {},
   "outputs": [],
   "source": []
  }
 ],
 "metadata": {
  "kernelspec": {
   "display_name": "Python 3 (ipykernel)",
   "language": "python",
   "name": "python3"
  },
  "language_info": {
   "codemirror_mode": {
    "name": "ipython",
    "version": 3
   },
   "file_extension": ".py",
   "mimetype": "text/x-python",
   "name": "python",
   "nbconvert_exporter": "python",
   "pygments_lexer": "ipython3",
   "version": "3.12.4"
  }
 },
 "nbformat": 4,
 "nbformat_minor": 5
}
