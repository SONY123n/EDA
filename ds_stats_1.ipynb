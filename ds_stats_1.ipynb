{
  "nbformat": 4,
  "nbformat_minor": 0,
  "metadata": {
    "colab": {
      "provenance": []
    },
    "kernelspec": {
      "name": "python3",
      "display_name": "Python 3"
    },
    "language_info": {
      "name": "python"
    }
  },
  "cells": [
    {
      "cell_type": "markdown",
      "source": [
        " What is the Probability density function?"
      ],
      "metadata": {
        "id": "d5Dkz0SmG8KV"
      }
    },
    {
      "cell_type": "code",
      "execution_count": null,
      "metadata": {
        "id": "uHegAWBIG46J"
      },
      "outputs": [],
      "source": [
        "#probility density function : this func handles with the continuous random variable that can take any value within a given range\n",
        "#The total area under the PDF curve is always 1.\n",
        "#example : height,weight,temperature"
      ]
    },
    {
      "cell_type": "markdown",
      "source": [
        " What are the types of Probability distribution"
      ],
      "metadata": {
        "id": "fOsGQJKdH9BY"
      }
    },
    {
      "cell_type": "code",
      "source": [
        "#there are two types of probability distribution\n",
        "#1- discrete probability distribution : the probility of discrete random variables,which can only take on specific,separate values.\n",
        "#example :bernoulli distribution , binomial distribution ,possion distribution\n",
        "#bernouli distribution : probability of success or faliure of a single trial\n",
        "#example : flipping a coin once\n",
        "#binomial distribution : probability of a certain number of successes in a fixed number of independent trials\n",
        "#example : getting 3 heads in 5 coins flips\n",
        "#poisson distribution : probability of a certain number of events occuring in a fixed interval of time\n",
        "#example : number of calls recived by the customer care every hour\n",
        "# 2- continuous probility distribution : the probabilities of continuous random variables,which can take on any value within a given range\n",
        "#example : (height, weight,temperature)normal distribution,uniform distribution,exponential distribution\n",
        "#normal distribution : bell-shaped curve,follows the normal distribution\n",
        "#example : height\n",
        "#uniform distribution : all values within a given range have equal probability\n",
        "#example : rolling a fair die\n"
      ],
      "metadata": {
        "id": "-kLq-B69H_As"
      },
      "execution_count": null,
      "outputs": []
    },
    {
      "cell_type": "markdown",
      "source": [
        " Write a Python function to calculate the probability density function of a normal distribution with\n",
        "given mean and standard deviation at a given point"
      ],
      "metadata": {
        "id": "fBGuxYO_Kzm0"
      }
    },
    {
      "cell_type": "code",
      "source": [
        "import math\n",
        "def normal_pdf(x,mean,std):\n",
        "  exponent = -((x - mean)**2) / (2 * (std**2))\n",
        "  pdf_value = (1 / (std * math.sqrt(2 * math.pi))) * math.exp(exponent)\n",
        "  return pdf_value\n",
        "\n",
        "mean =0\n",
        "std=1\n",
        "x=0.5\n",
        "pdf_value = normal_pdf(x,mean,std)\n",
        "print(pdf_value)"
      ],
      "metadata": {
        "colab": {
          "base_uri": "https://localhost:8080/"
        },
        "id": "94o8kjgTLAxj",
        "outputId": "8b8efc80-d0fc-47ba-b8f6-41360b97393e"
      },
      "execution_count": null,
      "outputs": [
        {
          "output_type": "stream",
          "name": "stdout",
          "text": [
            "0.3520653267642995\n"
          ]
        }
      ]
    },
    {
      "cell_type": "markdown",
      "source": [
        " What are the properties of Binomial distribution? Give two examples of events where binomial\n",
        "distribution can be applied"
      ],
      "metadata": {
        "id": "0JQMWj_yK2Ok"
      }
    },
    {
      "cell_type": "code",
      "source": [
        "#properties of binomial distribution\n",
        "#fixed numberf of trials(n)\n",
        "#independent trials\n",
        "#two possible outcome\n",
        "#constant probability of sucess\n",
        "#example : coin flips ,medical trail(new drug)"
      ],
      "metadata": {
        "id": "yvExMoTrLmX9"
      },
      "execution_count": null,
      "outputs": []
    },
    {
      "cell_type": "markdown",
      "source": [
        " Generate a random sample of size 1000 from a binomial distribution with probability of success 0.4\n",
        "and plot a histogram of the results using matplotlib"
      ],
      "metadata": {
        "id": "yYO1nNpRMTwY"
      }
    },
    {
      "cell_type": "code",
      "source": [
        "import numpy as np\n",
        "import matplotlib.pyplot as plt\n",
        "\n",
        "sample_size = 1000\n",
        "probability_success = 0.4\n",
        "random_sample = np.random.binomial(n=1, p=probability_success, size=sample_size)\n",
        "plt.hist(random_sample, bins=2, edgecolor='black')\n",
        "plt.title('Histogram of Binomial Distribution')\n",
        "plt.xlabel('Outcome (0: Failure, 1: Success)')\n",
        "plt.ylabel('Frequency')\n",
        "plt.xticks([0, 1], ['Failure', 'Success'])\n",
        "plt.show()"
      ],
      "metadata": {
        "colab": {
          "base_uri": "https://localhost:8080/",
          "height": 472
        },
        "id": "rF4vZPuMMTOP",
        "outputId": "b079eaa8-6d77-4ea3-ba72-41d098c55695"
      },
      "execution_count": null,
      "outputs": [
        {
          "output_type": "display_data",
          "data": {
            "text/plain": [
              "<Figure size 640x480 with 1 Axes>"
            ],
            "image/png": "[encoded data removed]"
          },
          "metadata": {}
        }
      ]
    },
    {
      "cell_type": "markdown",
      "source": [
        " Write a Python function to calculate the cumulative distribution function of a Poisson distribution\n",
        "with given mean at a given point."
      ],
      "metadata": {
        "id": "WdDLySyCMqt6"
      }
    },
    {
      "cell_type": "code",
      "source": [
        "import math\n",
        "def poisson_cdf(k, mean):\n",
        "  cdf_value = 0\n",
        "  for i in range(k + 1):\n",
        "    cdf_value += (math.exp(-mean) * (mean**i)) / math.factorial(i)\n",
        "  return cdf_value\n",
        "mean = 3\n",
        "k = 2\n",
        "\n",
        "cdf_at_k = poisson_cdf(k, mean)"
      ],
      "metadata": {
        "id": "2lzAzw9dMewR"
      },
      "execution_count": null,
      "outputs": []
    },
    {
      "cell_type": "markdown",
      "source": [
        "How Binomial distribution different from Poisson distribution?"
      ],
      "metadata": {
        "id": "TRZUYXToM993"
      }
    },
    {
      "cell_type": "code",
      "source": [
        "#binomial distribution is used for the fixed number of trials with two possible outcomes and the possion distribution is used for where the number of events that occur in a continuous trail\n"
      ],
      "metadata": {
        "id": "H6JsiXQGM9O4"
      },
      "execution_count": null,
      "outputs": []
    },
    {
      "cell_type": "markdown",
      "source": [
        "Generate a random sample of size 1000 from a Poisson distribution with mean 5 and calculate the\n",
        "sample mean and variance."
      ],
      "metadata": {
        "id": "w50lt5W4LwPN"
      }
    },
    {
      "cell_type": "code",
      "source": [
        "import numpy as np\n",
        "\n",
        "lambda_param = 5\n",
        "sample_size = 1000\n",
        "\n",
        "sample = np.random.poisson(lambda_param, sample_size)\n",
        "\n",
        "sample_mean = np.mean(sample)\n",
        "sample_variance = np.var(sample)\n",
        "\n",
        "print(f\"Sample Mean: {sample_mean}\")\n",
        "print(f\"Sample Variance: {sample_variance}\")"
      ],
      "metadata": {
        "colab": {
          "base_uri": "https://localhost:8080/"
        },
        "id": "8JRjXIIfMfLt",
        "outputId": "34953d15-8094-4825-fb81-87132019388b"
      },
      "execution_count": 2,
      "outputs": [
        {
          "output_type": "stream",
          "name": "stdout",
          "text": [
            "Sample Mean: 4.916\n",
            "Sample Variance: 4.534943999999999\n"
          ]
        }
      ]
    },
    {
      "cell_type": "markdown",
      "source": [
        " How mean and variance are related in Binomial distribution and Poisson distribution?"
      ],
      "metadata": {
        "id": "ETARmnyrNS2X"
      }
    },
    {
      "cell_type": "code",
      "source": [
        "#binomial distribution :\n",
        "#The mean and variance are related through the parameters ( n ) and ( p ).\n",
        "#The variance depends on both the number of trials and the probability of success.\n",
        "#mean (mu) = n*p\n",
        "#variance = n*p*(1-P)\n",
        "#poisson distribution :\n",
        "#In the Poisson distribution, the mean and variance are equal, both being ( \\lambda ).\n",
        "# This property is unique to the Poisson distribution and reflects the nature of events occurring independently over a fixed interval.\n",
        "#both mean and variance ar equal"
      ],
      "metadata": {
        "id": "nUILPGRwNFmD"
      },
      "execution_count": 3,
      "outputs": []
    },
    {
      "cell_type": "markdown",
      "source": [
        " In normal distribution with respect to mean position, where does the least frequent data appear?"
      ],
      "metadata": {
        "id": "iVhuQubhOYJ-"
      }
    },
    {
      "cell_type": "code",
      "source": [
        "#In a perfectly normal distribution, the mean, median, and mode are all located at the same point, which is the center of the distribution.\n",
        "#Shape of the Distribution: The normal distribution has a bell-shaped curve, where the highest frequency of data points occurs at the mean.\n",
        "# as we move away from the mean in either direction (toward the tails), the frequency of data points decreases.\n",
        "\n",
        "#Least Frequent Data: The least frequent data points in a normal distribution appear in the tails of the distribution.\n",
        "#Specifically:\n",
        "#The left tail (values less than the mean) contains the least frequent data points on the lower end.\n",
        "#The right tail (values greater than the mean) contains the least frequent data points on the upper end."
      ],
      "metadata": {
        "id": "n9GwwPbBOWrZ"
      },
      "execution_count": null,
      "outputs": []
    }
  ]
}