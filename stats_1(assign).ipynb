{
 "cells": [
  {
   "cell_type": "code",
   "execution_count": null,
   "id": "fce7ee80-fbee-46fc-b1b9-a7a31ff6e301",
   "metadata": {},
   "outputs": [],
   "source": [
    "#statistics\n",
    "#statistics is part of math which deals with collecting and analyzing of data\n",
    "#statistics is a mathematical scienec including methods of collecting ,organizing and analysing data in such a way that meaningful conclusion can be drawn from them\n"
   ]
  },
  {
   "cell_type": "code",
   "execution_count": null,
   "id": "023a0bac-d4f7-4e03-a7a0-937c60e6011d",
   "metadata": {},
   "outputs": [],
   "source": [
    "#types of statistics \n",
    "#mainly there are two types of statistics\n",
    "#1-descriptive statistics and 2- inferential statistics\n",
    "#examples for descriptive statistics are -1)measures of central tendency (mean,mode,median)\n",
    "#2)measures of spread or dispersion(stanard deviation ,variance,range,quartic,IQR)\n",
    "#3)measures of symmetricity (skewness,kurtosis)\n",
    "#examples for inferential statistics 1-hypothesis testing(testing claims or theories about the population\n",
    "#2)confidence intervals-estimating a range of values that likely contains a population parameter\n",
    "#3)regression analysis(modeling the relationship between variables)\n",
    "#some other types of statistics are 1)qualitative statistics and 2)quantitative statistics\n",
    "#1)qualitative statistics deals with categorivcal data(gender,eye color)\n",
    "#2)quantitative statistics deals with numerical data(age,height,weight)\n"
   ]
  },
  {
   "cell_type": "code",
   "execution_count": null,
   "id": "00902151-282b-4486-bfbd-ffc041b7a166",
   "metadata": {},
   "outputs": [],
   "source": [
    "#types of data\n",
    "#data are mainly of two types 1)qualitative data and a 2)quantitative data \n",
    "#qualitative data deals with categorical data which of two types 1) nominal data and 2) ordinal data\n",
    "#examples-gender,blood group,color,grade,salary,grade\n",
    "#quantitative data deals with numerical data .this quantitative data is of two types 1)discrete data and 2)continuous data\n",
    "#examples-no.of childrens,no.of phones,height,weight,lenght"
   ]
  },
  {
   "cell_type": "code",
   "execution_count": null,
   "id": "9f0f114b-7ef2-4325-93c3-ebf4bc414cb3",
   "metadata": {},
   "outputs": [],
   "source": [
    "#(i) Grading in exam: A+, A, B+, B, C+, C, D, E - qualitative data(ordinal)\n",
    "#(ii)Colour of mangoes: yellow, green, orange, red - qualitative data(nominal)\n",
    "#(iii) Height data of a class: [178.9, 179, 179.5, 176, 177.2, 178.3, 175.8,...] - quantitative data(continuous)\n",
    "#(iv) Number of mangoes exported by a farm: [500, 600, 478, 672, ...] - quantitative data(discrete)"
   ]
  },
  {
   "cell_type": "code",
   "execution_count": null,
   "id": "bd4b162e-ac34-403e-a5b3-b9fff4f1a9d2",
   "metadata": {},
   "outputs": [],
   "source": [
    "#there are three types of concept of levels of measurement\n",
    "#1)nominal:categorical data with no inherent oredr\n",
    "#example-eye color(blue,green,brown)\n",
    "#2)ordinal-categorical data with a specific order\n",
    "#example- grades,salary\n",
    "#3)discrete/interve-numerical data with equal intervels\n",
    "#examples-no.of childrens,employees in a team\n",
    "#4)continuous-numerical value with in a range\n",
    "#exaples-height,weight,speed\n"
   ]
  },
  {
   "cell_type": "code",
   "execution_count": null,
   "id": "8d589ea6-db33-4b50-95b6-090551f75a88",
   "metadata": {},
   "outputs": [],
   "source": [
    "#importance of levels of measurement\n",
    "#appropriate statistical analysis-different levels of measurement require different statistical techniques \n",
    "#example-we cannot calculate the mean of of a nominal variable like eye color\n",
    "#using incorrect statistical tests can lead to misleading results and incorrect conclusions\n",
    "#Data Visualization:The choice of visualization techniques depends on the level of measurement.\n",
    "#example, a bar chart is suitable for nominal data, while a histogram is appropriate for interval or ratio data."
   ]
  },
  {
   "cell_type": "code",
   "execution_count": null,
   "id": "0136aada-89c3-484e-8825-208c3afcbd4c",
   "metadata": {},
   "outputs": [],
   "source": [
    "#How nominal data type is different from ordinal data type.\n",
    "\n",
    "#nominal data-categorical data with no specific order\n",
    "#examples-gender,eye color,blood group\n",
    "\n",
    "#ordinal data - categorical data with specific order\n",
    "#examples- salary(high,medium,low),grade\n"
   ]
  },
  {
   "cell_type": "code",
   "execution_count": null,
   "id": "aac60def-5270-4f10-9071-b9694a0f5ab7",
   "metadata": {},
   "outputs": [],
   "source": [
    "#box plot is a suitable plot to display data in terms of range.it visually represnetd the distribution of data through quartiles,median and outliers\n",
    "#key features of a box plot is\n",
    "#box-represents the interquartile range(IQR) which contains 50% of the data\n",
    "#whiskers-extend from the box indicates the median value\n",
    "#median-a line within the box  indicates the median value\n",
    "#outliers -individual data points that fall outside the whiskers"
   ]
  },
  {
   "cell_type": "code",
   "execution_count": null,
   "id": "35a933e9-7bdc-4af6-b3e8-b455f0379c58",
   "metadata": {},
   "outputs": [],
   "source": [
    "#descriptive statistics:to summarize and describe the main features of the dataset\n",
    "#methos use inside the descriptive statistics are 1)measures of central tendency(mean,median,mode) ,2)measures of dispersion/spread(range,percentage,percentaile,variance,standard deviation) ,#_measures of symmertic(skewness ,kurtosis)\n",
    "#example-calculating the varage height of students in a class\n",
    "#inferential statistics:to draw a conclusions about a apopulation based on a sample of data\n",
    "#methods -hypothesis testing,confidence intervals, and regression analysis\n",
    "#examples-conducting a survey of 1000 voters to predict the outcome of an election\n",
    "#the main differebce are descriptive statistics focuses on summarizing the data at hand and inferential statitics aims to make broader generalizations and predctions beyond the specific data collected"
   ]
  },
  {
   "cell_type": "code",
   "execution_count": null,
   "id": "06c3f7f8-1e6c-45bd-9996-60b02633a984",
   "metadata": {},
   "outputs": [],
   "source": [
    "#common measure sof central tendency and variability are\n",
    "#1) measures of central tendency-\n",
    "#1)mean-the avarage of a data set\n",
    "#usage-useful for numerical data that is normally distributed. However, it can be influenced by outliers.\n",
    "#median-the middle value when a data set is ordered\n",
    "#usage-less effected by the outliers compared with mean\n",
    "#3)mode-the most frequent value in a dataset\n",
    "#usage-useful for both numerical and categorical data ,it identifies the most common category or value\n",
    "#measures of variability:\n",
    "#1)range-the difference between highest and lowest value\n",
    "#usage-simple to calculate but senstive to outliers\n",
    "#2)variance-the average squared deviation from the mean\n",
    "#usage-measures the spread of data around the mean\n",
    "#3)standard deviation -the square root of the variance\n",
    "#usage-more interpretable than variance as it's in the same units as the data\n",
    "#4) interquatile range(IQR)- the range of the middle 50% of the data\n",
    "#usage-less affected by outliers than the range"
   ]
  }
 ],
 "metadata": {
  "kernelspec": {
   "display_name": "Python 3 (ipykernel)",
   "language": "python",
   "name": "python3"
  },
  "language_info": {
   "codemirror_mode": {
    "name": "ipython",
    "version": 3
   },
   "file_extension": ".py",
   "mimetype": "text/x-python",
   "name": "python",
   "nbconvert_exporter": "python",
   "pygments_lexer": "ipython3",
   "version": "3.12.4"
  }
 },
 "nbformat": 4,
 "nbformat_minor": 5
}
