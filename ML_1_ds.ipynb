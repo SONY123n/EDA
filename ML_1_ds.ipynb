{
  "nbformat": 4,
  "nbformat_minor": 0,
  "metadata": {
    "colab": {
      "provenance": []
    },
    "kernelspec": {
      "name": "python3",
      "display_name": "Python 3"
    },
    "language_info": {
      "name": "python"
    }
  },
  "cells": [
    {
      "cell_type": "markdown",
      "source": [
        " Explain the following with an example:\n",
        " 1-Artificial Intelligence\n",
        " 2-Machine Learning\n",
        " 3-Deep Learning"
      ],
      "metadata": {
        "id": "0rh7Jg0WfhiY"
      }
    },
    {
      "cell_type": "code",
      "execution_count": 1,
      "metadata": {
        "id": "Ik5sIFwPfb6_"
      },
      "outputs": [],
      "source": [
        "#AI :it describe how computers and other machine to mimic human intelligence such as learning,problme solving and decision making\n",
        "#example : chess playing computer program\n",
        "#Machine learning : ML is a subset of AI,that focuses on creating alogrithms and statistical models to let compuetrs learn and make prediction without explicity programed from data\n",
        "#example : a spam filter of emails\n",
        "#Deep Learning : DL is further subset of ML,it invovles using artifical neural networks with multiple layers\n",
        "#example :  Image recognition"
      ]
    },
    {
      "cell_type": "markdown",
      "source": [
        " What is supervised learning? List some examples of supervised learning."
      ],
      "metadata": {
        "id": "sUi5ep7wrCLk"
      }
    },
    {
      "cell_type": "code",
      "source": [
        "#supervised learning : this involves training a model on a labeled dataset,where the input data is paired with the correct output\n",
        "#example : in a spam detection system,emails are labeled as 'spam' or 'not spam',allowing the model to learn to classify new emails based on this training\n",
        "#example : in predicting house price,"
      ],
      "metadata": {
        "id": "Dh-cVu1drBmk"
      },
      "execution_count": null,
      "outputs": []
    },
    {
      "cell_type": "markdown",
      "source": [
        " What is unsupervised learning? List some examples of unsupervised learning."
      ],
      "metadata": {
        "id": "48mMdSUBr5EP"
      }
    },
    {
      "cell_type": "code",
      "source": [
        "#unsupervised learning : it deals with the unlabeled data.The model tries to find the patterns from the input data and relationships in the data\n",
        "#example :grouping similar data points together based on there characteristic ,reducing the number of variables in a dataset\n"
      ],
      "metadata": {
        "id": "powcHQ0qsJju"
      },
      "execution_count": null,
      "outputs": []
    },
    {
      "cell_type": "markdown",
      "source": [
        " What is the difference between AI, ML, DL, and DS?\n",
        ""
      ],
      "metadata": {
        "id": "Mjdo-z62uDrU"
      }
    },
    {
      "cell_type": "code",
      "source": [
        "#AI :it describe how computers and other machine to mimic human intelligence such as learning,problme solving and decision making\n",
        "#example : chess playing computer program\n",
        "#Machine learning : ML is a subset of AI,that focuses on creating alogrithms and statistical models to let compuetrs learn and make prediction without explicity programed from data\n",
        "#example : a spam filter of emails\n",
        "#Deep Learning : DL is further subset of ML,it invovles using artifical neural networks with multiple layers\n",
        "#example :  Image recognition\n",
        "#Data Science : DS uses the Statistical analysis, data mining, machine learning, visualization,to analyze data\n",
        "#example :A data scientist analyzing customer data to identify trends and predict future purchasing behavior.\n",
        "#ML is a subset of AI.\n",
        "#DL is a subset of ML.\n",
        "#DS often uses ML techniques, but it is a broader field that encompasses data collection, cleaning, analysis, and visualization.\n"
      ],
      "metadata": {
        "id": "uRSCtDxouHI_"
      },
      "execution_count": null,
      "outputs": []
    },
    {
      "cell_type": "markdown",
      "source": [
        "What are the main differences between supervised, unsupervised, and semi-supervised learning"
      ],
      "metadata": {
        "id": "-tFl-ff5v25i"
      }
    },
    {
      "cell_type": "code",
      "source": [
        "#supervised learning : it trains the model on the labeled dataset(input-output pairs) and it predicts output for new data\n",
        "#example :classification ,Regression\n",
        "#unsupervised learning : it deals with the unlabeled data(no output lables) and discovers hidden patterns or relation\n",
        "#example :clustering ,dimensionality reduction\n",
        "#semi supervised learning : it deals with both labeled and unlabeled data ,it leverage both labeled and unlabeled data for prediction\n",
        "#example : image classification"
      ],
      "metadata": {
        "id": "FhIzwFz9v7Fl"
      },
      "execution_count": null,
      "outputs": []
    },
    {
      "cell_type": "markdown",
      "source": [
        "What is train, test and validation split? Explain the importance of each term"
      ],
      "metadata": {
        "id": "Z4CK_j0jyEyV"
      }
    },
    {
      "cell_type": "code",
      "source": [
        "#train split :used to train the model,allowing it to learn the patterns in the data\n",
        "#validation split : used to tune the model's hyperparameters and make desicions about the model's architecture\n",
        "#test split : used to evaluate the model's performance on unseedn data to estimate how it will perform in the real world data\n",
        "#common rations for splitting data are :\n",
        "#train : validation : test\n",
        "#70 : 15 : 15\n",
        "#80 : 10 : 10\n"
      ],
      "metadata": {
        "id": "hhY9TOREyENd"
      },
      "execution_count": null,
      "outputs": []
    },
    {
      "cell_type": "markdown",
      "source": [
        " How can unsupervised learning be used in anomaly detection"
      ],
      "metadata": {
        "id": "vNaegc4uzSA1"
      }
    },
    {
      "cell_type": "code",
      "source": [
        "#Unsupervised learning is a powerful technique for anomaly detection because it can identify patterns in data without relying on labeled examples of anomalies.\n",
        "# This is particularly useful in situations where anomalies are rare or unknown, making it difficult to obtain labeled data for supervised learning.\n",
        "#Data Collection and Preprocessing,Model Selection,Model Training,Anomaly Detection,Evaluation and Refinement"
      ],
      "metadata": {
        "id": "XoAzydhyzVnC"
      },
      "execution_count": null,
      "outputs": []
    },
    {
      "cell_type": "markdown",
      "source": [
        "List down some commonly used supervised learning algorithms and unsupervised learning\n",
        "algorithms."
      ],
      "metadata": {
        "id": "ZWIxzZE-0CbD"
      }
    },
    {
      "cell_type": "code",
      "source": [
        "#supervised learning algorithms :\n",
        "#linear regression , logistic regression,Decision Trees,Support Vector Machines(SVM),Navie Bayes,Random Forest,K-Nearest Neighbors(KNN)\n",
        "#unsupervised learning algorithms :\n",
        "#K-Means Clustering,Hierarchical Clustering,PCA\n"
      ],
      "metadata": {
        "id": "1lSw5bQ30F65"
      },
      "execution_count": null,
      "outputs": []
    }
  ]
}